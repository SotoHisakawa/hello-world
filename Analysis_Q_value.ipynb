{
  "nbformat": 4,
  "nbformat_minor": 0,
  "metadata": {
    "colab": {
      "provenance": [],
      "toc_visible": true,
      "authorship_tag": "ABX9TyPp2Rq5SznHpOaPTXX1p9SG",
      "include_colab_link": true
    },
    "kernelspec": {
      "name": "python3",
      "display_name": "Python 3"
    },
    "language_info": {
      "name": "python"
    }
  },
  "cells": [
    {
      "cell_type": "markdown",
      "metadata": {
        "id": "view-in-github",
        "colab_type": "text"
      },
      "source": [
        "<a href=\"https://colab.research.google.com/github/SotoHisakawa/hello-world/blob/main/Analysis_Q_value.ipynb\" target=\"_parent\"><img src=\"https://colab.research.google.com/assets/colab-badge.svg\" alt=\"Open In Colab\"/></a>"
      ]
    },
    {
      "cell_type": "markdown",
      "source": [
        "##import"
      ],
      "metadata": {
        "id": "kXIQHZrKhP0l"
      }
    },
    {
      "cell_type": "code",
      "execution_count": null,
      "metadata": {
        "id": "scAIIcwrDw9D"
      },
      "outputs": [],
      "source": [
        "import matplotlib.pyplot as plt\n",
        "import pandas as pd\n",
        "import numpy as np\n",
        "import math\n",
        "from collections import defaultdict\n",
        "import random\n",
        "import statistics\n",
        "import seaborn as sns\n",
        "import csv\n",
        "from collections import Counter"
      ]
    },
    {
      "cell_type": "markdown",
      "source": [
        "##load file"
      ],
      "metadata": {
        "id": "hKaHaSg5hS1h"
      }
    },
    {
      "cell_type": "code",
      "source": [
        "#Q_propose_matrix = np.loadtxt(\"Q_propose_matrix.csv\", delimiter=\",\")\n",
        "#Q_respond_matrix = np.loadtxt(\"Q_respond_matrix.csv\", delimiter=\",\")\n",
        "Q_value_matrix = np.loadtxt(\"Q_value_matrix.csv\", delimiter=\",\")"
      ],
      "metadata": {
        "id": "WQ9cJSBhEF3A"
      },
      "execution_count": null,
      "outputs": []
    },
    {
      "cell_type": "markdown",
      "source": [
        "##settings"
      ],
      "metadata": {
        "id": "3rGf8T6YpZ3k"
      }
    },
    {
      "cell_type": "markdown",
      "source": [
        "#####define choice"
      ],
      "metadata": {
        "id": "wDAQB255rQU0"
      }
    },
    {
      "cell_type": "code",
      "source": [
        "def use_needs_and_number_2(needs, number):\n",
        "    result = math.ceil(needs/number) + 2\n",
        "    return result\n",
        "\n",
        "def use_needs_and_number_1(needs, number):\n",
        "    result = math.ceil(needs/number) + 1\n",
        "    return result\n",
        "\n",
        "def use_needs_and_number_0(needs, number):\n",
        "    result = math.ceil(needs/number) + 0\n",
        "    return result\n",
        "\n",
        "def use_needs_and_number_minus1(needs, number):\n",
        "    result = math.ceil(needs/number) - 1\n",
        "    return result\n",
        "\n",
        "def use_only_needs_devide_2(needs, number):\n",
        "    result = math.ceil(needs/2)\n",
        "    return result\n",
        "\n",
        "def use_no_information_10(needs, number):\n",
        "    result = 10\n",
        "    return result\n",
        "\n",
        "def use_no_information_9(needs, number):\n",
        "    result = 9\n",
        "    return result\n",
        "\n",
        "def use_no_information_8(needs, number):\n",
        "    result = 8\n",
        "    return result\n",
        "\n",
        "def use_no_information_7(needs, number):\n",
        "    result = 7\n",
        "    return result\n",
        "\n",
        "def use_no_information_6(needs, number):\n",
        "    result = 6\n",
        "    return result\n",
        "\n",
        "def use_no_information_5(needs, number):\n",
        "    result = 5\n",
        "    return result\n",
        "\n",
        "def use_no_information_4(needs, number):\n",
        "    result = 4\n",
        "    return result\n",
        "\n",
        "def use_no_information_3(needs, number):\n",
        "    result = 3\n",
        "    return result\n",
        "\n",
        "def use_no_information_2(needs, number):\n",
        "    result = 2\n",
        "    return result\n",
        "\n",
        "def use_no_information_1(needs, number):\n",
        "    result = 1\n",
        "    return result"
      ],
      "metadata": {
        "id": "CRNzJnQNpbaM"
      },
      "execution_count": null,
      "outputs": []
    },
    {
      "cell_type": "markdown",
      "source": [
        "###decide_choice_of_action"
      ],
      "metadata": {
        "id": "EdRMzDMlrU41"
      }
    },
    {
      "cell_type": "code",
      "source": [
        "treat_level = True\n",
        "if False:\n",
        "    choice_of_quantity = [\n",
        "        use_needs_and_number_2,\n",
        "        use_needs_and_number_1,\n",
        "        use_only_needs_devide_2,\n",
        "        use_no_information_3,\n",
        "        use_no_information_2,\n",
        "        use_no_information_1\n",
        "    ]\n",
        "else:\n",
        "    choice_of_quantity = [\n",
        "        use_no_information_1,\n",
        "        use_no_information_2,\n",
        "        use_no_information_3,\n",
        "        use_no_information_4,\n",
        "        use_no_information_5,\n",
        "        use_no_information_6,\n",
        "        use_no_information_7,\n",
        "        use_no_information_8,\n",
        "        use_no_information_9,\n",
        "        use_no_information_10\n",
        "    ]\n"
      ],
      "metadata": {
        "id": "8htE7lwNrNUb"
      },
      "execution_count": null,
      "outputs": []
    },
    {
      "cell_type": "code",
      "source": [
        "print(use_needs_and_number_1(3,1))"
      ],
      "metadata": {
        "id": "dWRhqKP9cLa0",
        "colab": {
          "base_uri": "https://localhost:8080/"
        },
        "outputId": "2a83a225-69c8-4111-e74e-fa4c6c1753b3"
      },
      "execution_count": null,
      "outputs": [
        {
          "output_type": "stream",
          "name": "stdout",
          "text": [
            "4\n"
          ]
        }
      ]
    },
    {
      "cell_type": "markdown",
      "source": [
        "##function"
      ],
      "metadata": {
        "id": "Ac_DjEP3hXDU"
      }
    },
    {
      "cell_type": "code",
      "source": [
        "def calculate_step_for_Q_propose_matrix(state_value):\n",
        "    step = state_value % 21\n",
        "    return step\n",
        "\n",
        "def calculate_needs_for_Q_propose_matrix(state_value):\n",
        "    step = state_value % 21\n",
        "    needs = ((state_value - step) // 21) % 13\n",
        "    return needs\n",
        "\n",
        "def calculate_level_for_Q_propose_matrix(state_value):\n",
        "    step = state_value % 21\n",
        "    needs = ((state_value - step) // 21) % 13\n",
        "    level = (state_value - step - step * 21) // 273\n",
        "    return level\n",
        "\n",
        "def calculate_unit_price_value_for_Q_propose_matrix(act_value):\n",
        "    unit_price_value = act_value % 2\n",
        "    return unit_price_value\n",
        "\n",
        "def calculate_quantity_for_Q_propose_matrix(act_value):\n",
        "    unit_price_value = act_value % 2\n",
        "    if act_value != 20:\n",
        "        quantity = (act_value - unit_price_value) % 10\n",
        "    else:\n",
        "        quantity = -1\n",
        "    return quantity\n",
        "\n",
        "\n",
        "def calculate_step_for_Q_respond_matrix(state_value):\n",
        "    step = state_value % 21\n",
        "    return step\n",
        "\n",
        "def calculate_needs_for_Q_respond_matrix(state_value):\n",
        "    step = state_value % 21\n",
        "    needs = ((state_value - step) // 21) % 13\n",
        "    return needs\n",
        "\n",
        "def calculate_unit_price_value_for_Q_respond_matrix(state_value):\n",
        "    step = state_value % 21\n",
        "    needs = ((state_value - step) // 21) % 13\n",
        "    unit_price_value = ((state_value - step - step * 21) // 273) % 2\n",
        "    return unit_price_value\n",
        "\n",
        "def calculate_quantity_for_Q_respond_matrix(state_value):\n",
        "    step = state_value % 21\n",
        "    needs = ((state_value - step) // 21) % 13\n",
        "    unit_price_value = ((state_value - step - step * 21) // 273) % 2\n",
        "    quantity = ((state_value - step - step * 21 - unit_price_value * 273) // 546) % 10\n",
        "    return quantity\n",
        "\n",
        "def calculate_level_for_Q_respond_matrix(state_value):\n",
        "    step = state_value % 21\n",
        "    needs = ((state_value - step) // 21) % 13\n",
        "    unit_price_value = ((state_value - step - step * 21) // 273) % 2\n",
        "    quantity = ((state_value - step - step * 21 - unit_price_value * 273) // 546) % 10\n",
        "    level = (state_value - step - step * 21 - unit_price_value * 273 - quantity * 546) // 5460\n",
        "    return level\n",
        "\n",
        "\n",
        "def calculate_step_for_Q_value_matrix(state_value):\n",
        "    step = state_value % 21\n",
        "    return step\n",
        "\n",
        "def calculate_needs_for_Q_value_matrix(state_value):\n",
        "    step = state_value % 21\n",
        "    needs = ((state_value - step) // 21) % 13\n",
        "    return needs\n",
        "\n",
        "def calculate_level_for_Q_value_matrix(state_value):\n",
        "    step = state_value % 21\n",
        "    needs = ((state_value - step) // 21) % 13\n",
        "    level = ((state_value - step - needs * 21) // 273) % 2\n",
        "    return level\n",
        "\n",
        "def calculate_n_of_partners_for_Q_value_matrix(state_value):\n",
        "    step = state_value % 21\n",
        "    needs = ((state_value - step) // 21) % 13\n",
        "    level = ((state_value - step - needs * 21) // 273) % 2\n",
        "    n_of_partners = (state_value - step - needs * 21 - level * 273) // 546\n",
        "    return n_of_partners\n",
        "\n",
        "def calculate_unit_price_value_for_Q_value_matrix(act_value):\n",
        "    if act_value < len(choice_of_quantity):\n",
        "        unit_price_value = 0\n",
        "    else:\n",
        "        unit_price_value = 1\n",
        "    return unit_price_value\n",
        "\n",
        "def calculate_choice_of_quantity_for_Q_value_matrix(act_value):\n",
        "    selected_choice_of_quantity = act_value % len(choice_of_quantity)\n",
        "    return selected_choice_of_quantity"
      ],
      "metadata": {
        "id": "cq4iG1GNQYiM"
      },
      "execution_count": null,
      "outputs": []
    },
    {
      "cell_type": "code",
      "source": [
        "def find_max_column(data, row_index):\n",
        "    row = data[row_index]\n",
        "    max_column = np.argmax(row)\n",
        "    return max_column\n",
        "\n",
        "def get_random_max_col_index(matrix: np.ndarray, row: int) -> int:\n",
        "    max_value = np.max(matrix[row])\n",
        "    max_indices = np.where(matrix[row] == max_value)[0]\n",
        "    random_index = random.choice(max_indices)\n",
        "    return random_index"
      ],
      "metadata": {
        "id": "oHJBAvLnRAy7"
      },
      "execution_count": null,
      "outputs": []
    },
    {
      "cell_type": "markdown",
      "source": [
        "##analysis for Q_propose_matrix"
      ],
      "metadata": {
        "id": "hMqLR7rJFtoa"
      }
    },
    {
      "cell_type": "markdown",
      "source": [
        "####needs -> ave(quantity)"
      ],
      "metadata": {
        "id": "QQLFb6mRjNzJ"
      }
    },
    {
      "cell_type": "code",
      "source": [
        "#needs -> ave (quantity)\n",
        "needs_quantity_list = []\n",
        "not_learn_list = []\n",
        "for needs_value in range(13):\n",
        "    needs_quantity_list.append([])\n",
        "\n",
        "\n",
        "for row in range(546):\n",
        "    if np.all(Q_respond_matrix[row] == 0):\n",
        "        step = calculate_step_for_Q_propose_matrix(row)\n",
        "        needs = calculate_needs_for_Q_propose_matrix(row) - 2\n",
        "        level = calculate_level_for_Q_propose_matrix(row)\n",
        "        not_learn = [step, needs - 2, level]\n",
        "        not_learn_list.append(not_learn)\n",
        "    else:\n",
        "        needs_value = calculate_needs_for_Q_propose_matrix(row)\n",
        "        act_value = get_random_max_col_index(Q_propose_matrix, row)\n",
        "        quantity = calculate_quantity_for_Q_propose_matrix(act_value) + 1\n",
        "        needs_quantity_list[needs_value].append(quantity)\n",
        "\n",
        "print(\"number of not_learn = \", len(not_learn_list))\n",
        "if False:\n",
        "    print(\"not learn\")\n",
        "    for not_learn in not_learn_list:\n",
        "        print(not_learn)\n",
        "for needs_value in range(13):\n",
        "    needs = needs_value - 2\n",
        "    propose_quantity = needs_quantity_list[needs_value]\n",
        "    print(\"needs =\", needs, \"-> proposed quantity =\", propose_quantity)"
      ],
      "metadata": {
        "colab": {
          "base_uri": "https://localhost:8080/",
          "height": 229
        },
        "id": "OB1QQVG0F1Jx",
        "outputId": "89ccdffb-e58b-4f1e-97a4-4bb19f8d29af"
      },
      "execution_count": null,
      "outputs": [
        {
          "output_type": "error",
          "ename": "NameError",
          "evalue": "ignored",
          "traceback": [
            "\u001b[0;31m---------------------------------------------------------------------------\u001b[0m",
            "\u001b[0;31mNameError\u001b[0m                                 Traceback (most recent call last)",
            "\u001b[0;32m<ipython-input-9-30a7f8284cab>\u001b[0m in \u001b[0;36m<cell line: 8>\u001b[0;34m()\u001b[0m\n\u001b[1;32m      7\u001b[0m \u001b[0;34m\u001b[0m\u001b[0m\n\u001b[1;32m      8\u001b[0m \u001b[0;32mfor\u001b[0m \u001b[0mrow\u001b[0m \u001b[0;32min\u001b[0m \u001b[0mrange\u001b[0m\u001b[0;34m(\u001b[0m\u001b[0;36m546\u001b[0m\u001b[0;34m)\u001b[0m\u001b[0;34m:\u001b[0m\u001b[0;34m\u001b[0m\u001b[0;34m\u001b[0m\u001b[0m\n\u001b[0;32m----> 9\u001b[0;31m     \u001b[0;32mif\u001b[0m \u001b[0mnp\u001b[0m\u001b[0;34m.\u001b[0m\u001b[0mall\u001b[0m\u001b[0;34m(\u001b[0m\u001b[0mQ_respond_matrix\u001b[0m\u001b[0;34m[\u001b[0m\u001b[0mrow\u001b[0m\u001b[0;34m]\u001b[0m \u001b[0;34m==\u001b[0m \u001b[0;36m0\u001b[0m\u001b[0;34m)\u001b[0m\u001b[0;34m:\u001b[0m\u001b[0;34m\u001b[0m\u001b[0;34m\u001b[0m\u001b[0m\n\u001b[0m\u001b[1;32m     10\u001b[0m         \u001b[0mstep\u001b[0m \u001b[0;34m=\u001b[0m \u001b[0mcalculate_step_for_Q_propose_matrix\u001b[0m\u001b[0;34m(\u001b[0m\u001b[0mrow\u001b[0m\u001b[0;34m)\u001b[0m\u001b[0;34m\u001b[0m\u001b[0;34m\u001b[0m\u001b[0m\n\u001b[1;32m     11\u001b[0m         \u001b[0mneeds\u001b[0m \u001b[0;34m=\u001b[0m \u001b[0mcalculate_needs_for_Q_propose_matrix\u001b[0m\u001b[0;34m(\u001b[0m\u001b[0mrow\u001b[0m\u001b[0;34m)\u001b[0m \u001b[0;34m-\u001b[0m \u001b[0;36m2\u001b[0m\u001b[0;34m\u001b[0m\u001b[0;34m\u001b[0m\u001b[0m\n",
            "\u001b[0;31mNameError\u001b[0m: name 'Q_respond_matrix' is not defined"
          ]
        }
      ]
    },
    {
      "cell_type": "markdown",
      "source": [
        "####level -> unit_price_value"
      ],
      "metadata": {
        "id": "K2vKqmi6BtOM"
      }
    },
    {
      "cell_type": "code",
      "source": [
        "level_unit_price_value_list = []\n",
        "not_learn_list = []\n",
        "for level in range(2):\n",
        "    level_unit_price_value_list.append([0, 0])\n",
        "\n",
        "for row in range(546):\n",
        "    if np.all(Q_respond_matrix[row] == 0):\n",
        "        step = calculate_step_for_Q_propose_matrix(row)\n",
        "        needs = calculate_needs_for_Q_propose_matrix(row) - 2\n",
        "        level = calculate_level_for_Q_propose_matrix(row)\n",
        "        not_learn = [step, needs - 2, level]\n",
        "        not_learn_list.append(not_learn)\n",
        "    else:\n",
        "        level = calculate_level_for_Q_propose_matrix(row)\n",
        "        act_value = get_random_max_col_index(Q_propose_matrix, row)\n",
        "        unit_price_value = calculate_unit_price_value_for_Q_propose_matrix(act_value)\n",
        "        level_unit_price_value_list[level][unit_price_value] += 1\n",
        "\n",
        "print(\"number of not_learn = \", len(not_learn_list))\n",
        "if False:\n",
        "    print(\"not learn\")\n",
        "    for not_learn in not_learn_list:\n",
        "        print(not_learn)\n",
        "for level in range(2):\n",
        "    unit_price_value_list = level_unit_price_value_list[level]\n",
        "    #print(\"level =\", level, \"-> unit_price_value_list =\", unit_price_value_list)\n",
        "    print(\"level =\", level, \"-> bullish unit_price =\", unit_price_value_list[(level + 1) % 2], \"bearish unit_price =\", unit_price_value_list[(level) % 2])"
      ],
      "metadata": {
        "colab": {
          "base_uri": "https://localhost:8080/",
          "height": 229
        },
        "id": "mMG90FSCB4QQ",
        "outputId": "8743246a-81e7-4f85-bae2-9afbf31d7db5"
      },
      "execution_count": null,
      "outputs": [
        {
          "output_type": "error",
          "ename": "NameError",
          "evalue": "ignored",
          "traceback": [
            "\u001b[0;31m---------------------------------------------------------------------------\u001b[0m",
            "\u001b[0;31mNameError\u001b[0m                                 Traceback (most recent call last)",
            "\u001b[0;32m<ipython-input-10-f0a2c19a9cd0>\u001b[0m in \u001b[0;36m<cell line: 6>\u001b[0;34m()\u001b[0m\n\u001b[1;32m      5\u001b[0m \u001b[0;34m\u001b[0m\u001b[0m\n\u001b[1;32m      6\u001b[0m \u001b[0;32mfor\u001b[0m \u001b[0mrow\u001b[0m \u001b[0;32min\u001b[0m \u001b[0mrange\u001b[0m\u001b[0;34m(\u001b[0m\u001b[0;36m546\u001b[0m\u001b[0;34m)\u001b[0m\u001b[0;34m:\u001b[0m\u001b[0;34m\u001b[0m\u001b[0;34m\u001b[0m\u001b[0m\n\u001b[0;32m----> 7\u001b[0;31m     \u001b[0;32mif\u001b[0m \u001b[0mnp\u001b[0m\u001b[0;34m.\u001b[0m\u001b[0mall\u001b[0m\u001b[0;34m(\u001b[0m\u001b[0mQ_respond_matrix\u001b[0m\u001b[0;34m[\u001b[0m\u001b[0mrow\u001b[0m\u001b[0;34m]\u001b[0m \u001b[0;34m==\u001b[0m \u001b[0;36m0\u001b[0m\u001b[0;34m)\u001b[0m\u001b[0;34m:\u001b[0m\u001b[0;34m\u001b[0m\u001b[0;34m\u001b[0m\u001b[0m\n\u001b[0m\u001b[1;32m      8\u001b[0m         \u001b[0mstep\u001b[0m \u001b[0;34m=\u001b[0m \u001b[0mcalculate_step_for_Q_propose_matrix\u001b[0m\u001b[0;34m(\u001b[0m\u001b[0mrow\u001b[0m\u001b[0;34m)\u001b[0m\u001b[0;34m\u001b[0m\u001b[0;34m\u001b[0m\u001b[0m\n\u001b[1;32m      9\u001b[0m         \u001b[0mneeds\u001b[0m \u001b[0;34m=\u001b[0m \u001b[0mcalculate_needs_for_Q_propose_matrix\u001b[0m\u001b[0;34m(\u001b[0m\u001b[0mrow\u001b[0m\u001b[0;34m)\u001b[0m \u001b[0;34m-\u001b[0m \u001b[0;36m2\u001b[0m\u001b[0;34m\u001b[0m\u001b[0;34m\u001b[0m\u001b[0m\n",
            "\u001b[0;31mNameError\u001b[0m: name 'Q_respond_matrix' is not defined"
          ]
        }
      ]
    },
    {
      "cell_type": "markdown",
      "source": [
        "##analysis for Q_respond_matrix"
      ],
      "metadata": {
        "id": "Zid0KHa8F0Hn"
      }
    },
    {
      "cell_type": "markdown",
      "source": [
        "####needs, quantity -> action"
      ],
      "metadata": {
        "id": "_d-xA0FHo8xv"
      }
    },
    {
      "cell_type": "code",
      "source": [
        "needs_quantity_to_act_list = []\n",
        "not_learn_list = []\n",
        "for needs_value in range(13):\n",
        "    needs_quantity_to_act_list.append([])\n",
        "    for quantity_value in range(10):\n",
        "         needs_quantity_to_act_list[needs_value].append([0, 0, 0])\n",
        "\n",
        "for row in range(10920):\n",
        "    if np.all(Q_respond_matrix[row] == 0):\n",
        "        step = calculate_step_for_Q_respond_matrix(row)\n",
        "        needs = calculate_needs_for_Q_respond_matrix(row) - 2\n",
        "        unit_price_value = calculate_unit_price_value_for_Q_respond_matrix(row)\n",
        "        quantity = calculate_quantity_for_Q_respond_matrix(row) + 1\n",
        "        level = calculate_level_for_Q_respond_matrix(row)\n",
        "        not_learn = [step, needs, unit_price_value, quantity, level]\n",
        "        not_learn_list.append(not_learn)\n",
        "    else:\n",
        "        needs_value = calculate_needs_for_Q_respond_matrix(row)\n",
        "        quantity_value = calculate_quantity_for_Q_respond_matrix(row)\n",
        "        act_value = get_random_max_col_index(Q_respond_matrix, row)\n",
        "        needs_quantity_to_act_list[needs_value][quantity_value][act_value] += 1\n",
        "\n",
        "print(\"number of not_learn = \", len(not_learn_list))\n",
        "if False:\n",
        "    print(\"not learn\")\n",
        "    for not_learn in not_learn_list:\n",
        "        print(not_learn)\n",
        "for needs_value in range(13):\n",
        "    needs = needs_value - 2\n",
        "    for quantity_value in range(10):\n",
        "        quantity = quantity_value + 1\n",
        "        respond = needs_quantity_to_act_list[needs_value][quantity_value]\n",
        "        print(\"needs=\", needs, \"quantity=\", quantity, \"-> respond\", respond)"
      ],
      "metadata": {
        "colab": {
          "base_uri": "https://localhost:8080/"
        },
        "id": "DhsO_xNTo8du",
        "outputId": "98c24fda-2f27-40bc-f906-8bb1586aba5e"
      },
      "execution_count": null,
      "outputs": [
        {
          "output_type": "stream",
          "name": "stdout",
          "text": [
            "number of not_learn =  7364\n",
            "needs= -2 quantity= 1 -> respond [0, 0, 84]\n",
            "needs= -2 quantity= 2 -> respond [0, 0, 84]\n",
            "needs= -2 quantity= 3 -> respond [0, 0, 84]\n",
            "needs= -2 quantity= 4 -> respond [0, 0, 84]\n",
            "needs= -2 quantity= 5 -> respond [0, 0, 84]\n",
            "needs= -2 quantity= 6 -> respond [0, 0, 84]\n",
            "needs= -2 quantity= 7 -> respond [0, 0, 84]\n",
            "needs= -2 quantity= 8 -> respond [0, 0, 84]\n",
            "needs= -2 quantity= 9 -> respond [0, 0, 84]\n",
            "needs= -2 quantity= 10 -> respond [0, 0, 84]\n",
            "needs= -1 quantity= 1 -> respond [0, 0, 84]\n",
            "needs= -1 quantity= 2 -> respond [0, 0, 84]\n",
            "needs= -1 quantity= 3 -> respond [0, 0, 84]\n",
            "needs= -1 quantity= 4 -> respond [0, 0, 84]\n",
            "needs= -1 quantity= 5 -> respond [0, 0, 84]\n",
            "needs= -1 quantity= 6 -> respond [0, 0, 84]\n",
            "needs= -1 quantity= 7 -> respond [0, 0, 84]\n",
            "needs= -1 quantity= 8 -> respond [0, 0, 84]\n",
            "needs= -1 quantity= 9 -> respond [0, 0, 84]\n",
            "needs= -1 quantity= 10 -> respond [0, 0, 84]\n",
            "needs= 0 quantity= 1 -> respond [0, 0, 84]\n",
            "needs= 0 quantity= 2 -> respond [0, 0, 84]\n",
            "needs= 0 quantity= 3 -> respond [0, 0, 84]\n",
            "needs= 0 quantity= 4 -> respond [0, 0, 84]\n",
            "needs= 0 quantity= 5 -> respond [0, 0, 84]\n",
            "needs= 0 quantity= 6 -> respond [0, 0, 84]\n",
            "needs= 0 quantity= 7 -> respond [0, 0, 84]\n",
            "needs= 0 quantity= 8 -> respond [0, 0, 84]\n",
            "needs= 0 quantity= 9 -> respond [0, 0, 84]\n",
            "needs= 0 quantity= 10 -> respond [0, 0, 84]\n",
            "needs= 1 quantity= 1 -> respond [14, 1, 0]\n",
            "needs= 1 quantity= 2 -> respond [2, 6, 0]\n",
            "needs= 1 quantity= 3 -> respond [0, 9, 0]\n",
            "needs= 1 quantity= 4 -> respond [0, 8, 0]\n",
            "needs= 1 quantity= 5 -> respond [0, 9, 0]\n",
            "needs= 1 quantity= 6 -> respond [0, 8, 0]\n",
            "needs= 1 quantity= 7 -> respond [0, 8, 0]\n",
            "needs= 1 quantity= 8 -> respond [0, 8, 0]\n",
            "needs= 1 quantity= 9 -> respond [0, 7, 0]\n",
            "needs= 1 quantity= 10 -> respond [3, 15, 0]\n",
            "needs= 2 quantity= 1 -> respond [14, 1, 0]\n",
            "needs= 2 quantity= 2 -> respond [7, 2, 0]\n",
            "needs= 2 quantity= 3 -> respond [7, 1, 0]\n",
            "needs= 2 quantity= 4 -> respond [4, 3, 0]\n",
            "needs= 2 quantity= 5 -> respond [0, 9, 0]\n",
            "needs= 2 quantity= 6 -> respond [0, 8, 0]\n",
            "needs= 2 quantity= 7 -> respond [0, 9, 0]\n",
            "needs= 2 quantity= 8 -> respond [0, 8, 0]\n",
            "needs= 2 quantity= 9 -> respond [0, 6, 0]\n",
            "needs= 2 quantity= 10 -> respond [0, 12, 0]\n",
            "needs= 3 quantity= 1 -> respond [10, 8, 0]\n",
            "needs= 3 quantity= 2 -> respond [8, 3, 0]\n",
            "needs= 3 quantity= 3 -> respond [8, 1, 0]\n",
            "needs= 3 quantity= 4 -> respond [8, 1, 0]\n",
            "needs= 3 quantity= 5 -> respond [7, 4, 0]\n",
            "needs= 3 quantity= 6 -> respond [4, 3, 0]\n",
            "needs= 3 quantity= 7 -> respond [2, 7, 0]\n",
            "needs= 3 quantity= 8 -> respond [1, 9, 0]\n",
            "needs= 3 quantity= 9 -> respond [0, 8, 0]\n",
            "needs= 3 quantity= 10 -> respond [1, 14, 0]\n",
            "needs= 4 quantity= 1 -> respond [9, 7, 0]\n",
            "needs= 4 quantity= 2 -> respond [10, 1, 0]\n",
            "needs= 4 quantity= 3 -> respond [9, 0, 0]\n",
            "needs= 4 quantity= 4 -> respond [7, 3, 0]\n",
            "needs= 4 quantity= 5 -> respond [7, 3, 0]\n",
            "needs= 4 quantity= 6 -> respond [7, 1, 0]\n",
            "needs= 4 quantity= 7 -> respond [4, 4, 0]\n",
            "needs= 4 quantity= 8 -> respond [3, 6, 0]\n",
            "needs= 4 quantity= 9 -> respond [3, 4, 0]\n",
            "needs= 4 quantity= 10 -> respond [2, 10, 0]\n",
            "needs= 5 quantity= 1 -> respond [6, 10, 0]\n",
            "needs= 5 quantity= 2 -> respond [8, 5, 0]\n",
            "needs= 5 quantity= 3 -> respond [6, 3, 0]\n",
            "needs= 5 quantity= 4 -> respond [9, 0, 0]\n",
            "needs= 5 quantity= 5 -> respond [10, 0, 0]\n",
            "needs= 5 quantity= 6 -> respond [8, 1, 0]\n",
            "needs= 5 quantity= 7 -> respond [7, 2, 0]\n",
            "needs= 5 quantity= 8 -> respond [6, 3, 0]\n",
            "needs= 5 quantity= 9 -> respond [3, 5, 0]\n",
            "needs= 5 quantity= 10 -> respond [2, 11, 0]\n",
            "needs= 6 quantity= 1 -> respond [4, 12, 0]\n",
            "needs= 6 quantity= 2 -> respond [3, 8, 0]\n",
            "needs= 6 quantity= 3 -> respond [3, 7, 0]\n",
            "needs= 6 quantity= 4 -> respond [6, 3, 0]\n",
            "needs= 6 quantity= 5 -> respond [6, 4, 0]\n",
            "needs= 6 quantity= 6 -> respond [8, 0, 0]\n",
            "needs= 6 quantity= 7 -> respond [8, 2, 0]\n",
            "needs= 6 quantity= 8 -> respond [4, 4, 0]\n",
            "needs= 6 quantity= 9 -> respond [3, 4, 0]\n",
            "needs= 6 quantity= 10 -> respond [7, 5, 0]\n",
            "needs= 7 quantity= 1 -> respond [10, 10, 0]\n",
            "needs= 7 quantity= 2 -> respond [1, 8, 0]\n",
            "needs= 7 quantity= 3 -> respond [4, 6, 0]\n",
            "needs= 7 quantity= 4 -> respond [3, 6, 0]\n",
            "needs= 7 quantity= 5 -> respond [7, 2, 0]\n",
            "needs= 7 quantity= 6 -> respond [7, 2, 0]\n",
            "needs= 7 quantity= 7 -> respond [7, 2, 0]\n",
            "needs= 7 quantity= 8 -> respond [7, 1, 0]\n",
            "needs= 7 quantity= 9 -> respond [4, 2, 0]\n",
            "needs= 7 quantity= 10 -> respond [10, 2, 0]\n",
            "needs= 8 quantity= 1 -> respond [5, 13, 0]\n",
            "needs= 8 quantity= 2 -> respond [2, 9, 0]\n",
            "needs= 8 quantity= 3 -> respond [2, 7, 0]\n",
            "needs= 8 quantity= 4 -> respond [4, 4, 0]\n",
            "needs= 8 quantity= 5 -> respond [6, 3, 0]\n",
            "needs= 8 quantity= 6 -> respond [7, 2, 0]\n",
            "needs= 8 quantity= 7 -> respond [7, 1, 0]\n",
            "needs= 8 quantity= 8 -> respond [7, 4, 0]\n",
            "needs= 8 quantity= 9 -> respond [6, 2, 0]\n",
            "needs= 8 quantity= 10 -> respond [13, 2, 0]\n",
            "needs= 9 quantity= 1 -> respond [5, 15, 0]\n",
            "needs= 9 quantity= 2 -> respond [2, 9, 0]\n",
            "needs= 9 quantity= 3 -> respond [2, 9, 0]\n",
            "needs= 9 quantity= 4 -> respond [6, 4, 0]\n",
            "needs= 9 quantity= 5 -> respond [6, 6, 0]\n",
            "needs= 9 quantity= 6 -> respond [8, 2, 0]\n",
            "needs= 9 quantity= 7 -> respond [7, 1, 0]\n",
            "needs= 9 quantity= 8 -> respond [7, 1, 0]\n",
            "needs= 9 quantity= 9 -> respond [5, 4, 0]\n",
            "needs= 9 quantity= 10 -> respond [10, 3, 0]\n",
            "needs= 10 quantity= 1 -> respond [4, 14, 0]\n",
            "needs= 10 quantity= 2 -> respond [1, 11, 0]\n",
            "needs= 10 quantity= 3 -> respond [1, 9, 0]\n",
            "needs= 10 quantity= 4 -> respond [3, 9, 0]\n",
            "needs= 10 quantity= 5 -> respond [7, 4, 0]\n",
            "needs= 10 quantity= 6 -> respond [3, 7, 0]\n",
            "needs= 10 quantity= 7 -> respond [5, 7, 0]\n",
            "needs= 10 quantity= 8 -> respond [6, 3, 0]\n",
            "needs= 10 quantity= 9 -> respond [7, 1, 0]\n",
            "needs= 10 quantity= 10 -> respond [8, 5, 0]\n"
          ]
        }
      ]
    },
    {
      "cell_type": "markdown",
      "source": [
        "##analysis for Q_value_matrix"
      ],
      "metadata": {
        "id": "kHxuPtUmrqYk"
      }
    },
    {
      "cell_type": "markdown",
      "source": [
        "###treat unit_price"
      ],
      "metadata": {
        "id": "l1ZLARPkrwyU"
      }
    },
    {
      "cell_type": "markdown",
      "source": [
        "####analysis quantity"
      ],
      "metadata": {
        "id": "cjvzDulFq6Tq"
      }
    },
    {
      "cell_type": "markdown",
      "source": [
        "#####needs, step -> quantity"
      ],
      "metadata": {
        "id": "eyes-VnKDeAq"
      }
    },
    {
      "cell_type": "code",
      "source": [
        "#needs, step -> quantity\n",
        "needs_step_to_quantity_list = []\n",
        "needs_step_to_selected_number_list = []\n",
        "for needs_value in range(13):\n",
        "    needs_step_to_quantity_list.append([])\n",
        "    needs_step_to_selected_number_list.append([])\n",
        "    for m in range(21):\n",
        "        needs_step_to_quantity_list[needs_value].append([])\n",
        "        needs_step_to_selected_number_list[needs_value].append([])\n",
        "\n",
        "\n",
        "for row in range(6006):\n",
        "    if np.any(Q_value_matrix[row] > 0):\n",
        "        needs_value = calculate_needs_for_Q_value_matrix(row)\n",
        "        step = calculate_step_for_Q_value_matrix(row)\n",
        "        n_of_partners_value = calculate_n_of_partners_for_Q_value_matrix(row)\n",
        "\n",
        "        act_value = get_random_max_col_index(Q_value_matrix, row)\n",
        "        selected_choice_of_quantity = calculate_choice_of_quantity_for_Q_value_matrix(act_value)\n",
        "        quantity = choice_of_quantity[selected_choice_of_quantity](needs_value-2, n_of_partners_value+1)\n",
        "\n",
        "        needs_step_to_selected_number_list[needs_value][step].append(selected_choice_of_quantity)\n",
        "        needs_step_to_quantity_list[needs_value][step].append(quantity)\n",
        "\n",
        "#print(needs_step_to_quantity_list)\n",
        "\n",
        "for needs_value in range(13):\n",
        "    needs = needs_value - 2\n",
        "    print(\"needs =\", needs)\n",
        "    for step in range(21):\n",
        "        propose_quantity = needs_step_to_quantity_list[needs_value][step]\n",
        "        if propose_quantity != []:\n",
        "            print(\"  step =\", step, \"-> proposed quantity =\", propose_quantity)\n",
        "            print(\"    ave_quantity = \", sum(propose_quantity)/len(propose_quantity))\n",
        "\n",
        "print(\" \")\n",
        "\n",
        "if False:\n",
        "    for needs_value in range(13):\n",
        "        needs = needs_value - 2\n",
        "        print(\"needs =\", needs)\n",
        "        for step in range(21):\n",
        "            selected_choice = needs_step_to_selected_number_list[needs_value][step]\n",
        "            if selected_choice != []:\n",
        "                print(\"  step =\", step, \"-> selected choice of quantity =\", selected_choice)"
      ],
      "metadata": {
        "colab": {
          "base_uri": "https://localhost:8080/"
        },
        "id": "adyIVbRJDhyp",
        "outputId": "3f1e34dd-8e81-4c00-9abe-4da44cca6626"
      },
      "execution_count": null,
      "outputs": [
        {
          "output_type": "stream",
          "name": "stdout",
          "text": [
            "needs = -2\n",
            "needs = -1\n",
            "needs = 0\n",
            "needs = 1\n",
            "  step = 0 -> proposed quantity = [1, 1, 1, 1, 1, 1, 1, 1, 1, 1]\n",
            "    ave_quantity =  1.0\n",
            "  step = 1 -> proposed quantity = [1, 1, 1, 1, 1, 1, 1, 1, 1]\n",
            "    ave_quantity =  1.0\n",
            "  step = 2 -> proposed quantity = [1, 1, 1, 1, 1, 1, 1, 1, 1, 1]\n",
            "    ave_quantity =  1.0\n",
            "  step = 3 -> proposed quantity = [1, 1, 1, 1, 1, 1, 1, 1]\n",
            "    ave_quantity =  1.0\n",
            "  step = 4 -> proposed quantity = [1, 1, 1, 1, 1, 1, 1, 1, 1, 1]\n",
            "    ave_quantity =  1.0\n",
            "  step = 5 -> proposed quantity = [1, 1, 1, 1, 1, 1, 1, 1, 1]\n",
            "    ave_quantity =  1.0\n",
            "  step = 6 -> proposed quantity = [1, 1, 1, 1, 1, 1, 1, 1, 1, 1]\n",
            "    ave_quantity =  1.0\n",
            "  step = 7 -> proposed quantity = [1, 1, 1, 1, 1, 1, 1, 1, 1]\n",
            "    ave_quantity =  1.0\n",
            "  step = 8 -> proposed quantity = [1, 1, 1, 1, 1, 1, 1, 1, 1]\n",
            "    ave_quantity =  1.0\n",
            "  step = 9 -> proposed quantity = [1, 1, 1, 1, 1, 1, 1, 1, 1, 1]\n",
            "    ave_quantity =  1.0\n",
            "  step = 10 -> proposed quantity = [1, 1, 1, 1, 1, 1, 1, 1, 1]\n",
            "    ave_quantity =  1.0\n",
            "  step = 11 -> proposed quantity = [1, 1, 1, 1, 1, 1, 1, 1, 1]\n",
            "    ave_quantity =  1.0\n",
            "  step = 12 -> proposed quantity = [1, 1, 1, 1, 1, 1, 1, 1, 1, 1]\n",
            "    ave_quantity =  1.0\n",
            "  step = 13 -> proposed quantity = [1, 1, 1, 1, 1, 1, 1, 1, 1]\n",
            "    ave_quantity =  1.0\n",
            "  step = 14 -> proposed quantity = [1, 1, 1, 1, 1, 1, 1, 1, 1]\n",
            "    ave_quantity =  1.0\n",
            "  step = 15 -> proposed quantity = [1, 1, 1, 1, 1, 1, 1, 1, 1]\n",
            "    ave_quantity =  1.0\n",
            "  step = 16 -> proposed quantity = [1, 1, 1, 1, 1, 1, 1, 1, 1, 1]\n",
            "    ave_quantity =  1.0\n",
            "  step = 17 -> proposed quantity = [1, 1, 1, 1, 1, 1, 1, 1, 1, 1]\n",
            "    ave_quantity =  1.0\n",
            "  step = 18 -> proposed quantity = [1, 1, 1, 1, 1, 1, 1, 1, 1]\n",
            "    ave_quantity =  1.0\n",
            "  step = 19 -> proposed quantity = [1, 1, 1, 1, 1, 1, 1, 1, 1]\n",
            "    ave_quantity =  1.0\n",
            "  step = 20 -> proposed quantity = [1, 1, 1, 1, 1, 1, 1, 1, 1, 1, 1]\n",
            "    ave_quantity =  1.0\n",
            "needs = 2\n",
            "  step = 0 -> proposed quantity = [2, 2, 2, 2, 1, 2, 1, 2, 2]\n",
            "    ave_quantity =  1.7777777777777777\n",
            "  step = 1 -> proposed quantity = [2, 2, 1, 1, 2, 2, 1, 1, 2]\n",
            "    ave_quantity =  1.5555555555555556\n",
            "  step = 2 -> proposed quantity = [2, 2, 2, 1, 2, 2, 1, 1, 1, 2]\n",
            "    ave_quantity =  1.6\n",
            "  step = 3 -> proposed quantity = [2, 2, 1, 1, 1, 1, 2, 1, 2, 1]\n",
            "    ave_quantity =  1.4\n",
            "  step = 4 -> proposed quantity = [1, 2, 1, 1, 1, 2, 1, 1, 2, 1]\n",
            "    ave_quantity =  1.3\n",
            "  step = 5 -> proposed quantity = [1, 2, 1, 2, 1, 1, 1, 2, 1]\n",
            "    ave_quantity =  1.3333333333333333\n",
            "  step = 6 -> proposed quantity = [2, 1, 2, 1, 2, 1, 2]\n",
            "    ave_quantity =  1.5714285714285714\n",
            "  step = 7 -> proposed quantity = [2, 1, 2, 1, 1, 2, 2, 2, 2]\n",
            "    ave_quantity =  1.6666666666666667\n",
            "  step = 8 -> proposed quantity = [1, 2, 2, 1, 1, 1, 2, 2, 1]\n",
            "    ave_quantity =  1.4444444444444444\n",
            "  step = 9 -> proposed quantity = [2, 2, 2, 2, 2, 1, 2, 1, 1]\n",
            "    ave_quantity =  1.6666666666666667\n",
            "  step = 10 -> proposed quantity = [2, 2, 2, 2, 2, 2, 1, 1]\n",
            "    ave_quantity =  1.75\n",
            "  step = 11 -> proposed quantity = [1, 1, 2, 2, 1, 2, 1, 1, 1, 1, 1]\n",
            "    ave_quantity =  1.2727272727272727\n",
            "  step = 12 -> proposed quantity = [2, 2, 1, 1, 2, 2, 2, 1, 1, 1, 2]\n",
            "    ave_quantity =  1.5454545454545454\n",
            "  step = 13 -> proposed quantity = [2, 2, 1, 1, 1, 2, 1, 2, 1]\n",
            "    ave_quantity =  1.4444444444444444\n",
            "  step = 14 -> proposed quantity = [2, 2, 1, 1, 1, 1, 2, 1, 1, 2]\n",
            "    ave_quantity =  1.4\n",
            "  step = 15 -> proposed quantity = [2, 2, 1, 2, 2, 2, 2, 2, 2, 1]\n",
            "    ave_quantity =  1.8\n",
            "  step = 16 -> proposed quantity = [2, 2, 1, 1, 1, 1, 2, 2, 1]\n",
            "    ave_quantity =  1.4444444444444444\n",
            "  step = 17 -> proposed quantity = [1, 2, 1, 1, 1, 2, 1, 1, 1]\n",
            "    ave_quantity =  1.2222222222222223\n",
            "  step = 18 -> proposed quantity = [2, 1, 1, 1, 2, 1, 1, 2, 1, 1]\n",
            "    ave_quantity =  1.3\n",
            "  step = 19 -> proposed quantity = [2, 2, 2, 2, 2, 2, 1, 2, 1]\n",
            "    ave_quantity =  1.7777777777777777\n",
            "  step = 20 -> proposed quantity = [2, 2, 2, 2, 1, 1, 1, 1, 2, 1, 2]\n",
            "    ave_quantity =  1.5454545454545454\n",
            "needs = 3\n",
            "  step = 0 -> proposed quantity = [2, 3, 3, 2, 1, 1, 2, 2, 1, 3, 1]\n",
            "    ave_quantity =  1.9090909090909092\n",
            "  step = 1 -> proposed quantity = [3, 2, 2, 1, 3, 1, 3, 1, 2, 2]\n",
            "    ave_quantity =  2.0\n",
            "  step = 2 -> proposed quantity = [2, 3, 3, 2, 2, 2, 1, 3, 2, 1, 2, 1]\n",
            "    ave_quantity =  2.0\n",
            "  step = 3 -> proposed quantity = [3, 3, 2, 1, 2, 1, 2, 3, 2, 1, 2]\n",
            "    ave_quantity =  2.0\n",
            "  step = 4 -> proposed quantity = [1, 3, 3, 3, 2, 1, 1, 2, 2, 1, 3]\n",
            "    ave_quantity =  2.0\n",
            "  step = 5 -> proposed quantity = [3, 3, 3, 2, 2, 2, 2, 2, 1, 3]\n",
            "    ave_quantity =  2.3\n",
            "  step = 6 -> proposed quantity = [2, 3, 3, 1, 3, 3, 1, 1, 1]\n",
            "    ave_quantity =  2.0\n",
            "  step = 7 -> proposed quantity = [3, 3, 1, 2, 2, 2, 2, 2, 3]\n",
            "    ave_quantity =  2.2222222222222223\n",
            "  step = 8 -> proposed quantity = [3, 2, 2, 2, 2, 1, 2, 2]\n",
            "    ave_quantity =  2.0\n",
            "  step = 9 -> proposed quantity = [3, 3, 2, 3, 2, 3, 2, 2, 1, 1]\n",
            "    ave_quantity =  2.2\n",
            "  step = 10 -> proposed quantity = [3, 3, 1, 2, 1, 1, 1, 3, 3]\n",
            "    ave_quantity =  2.0\n",
            "  step = 11 -> proposed quantity = [3, 2, 3, 2, 3, 2, 3, 1, 1, 2]\n",
            "    ave_quantity =  2.2\n",
            "  step = 12 -> proposed quantity = [3, 3, 2, 2, 3, 1, 2, 2, 2, 1, 1]\n",
            "    ave_quantity =  2.0\n",
            "  step = 13 -> proposed quantity = [3, 3, 2, 1, 1, 1, 1, 3, 3, 2, 1]\n",
            "    ave_quantity =  1.9090909090909092\n",
            "  step = 14 -> proposed quantity = [3, 3, 3, 3, 2, 1, 2, 1, 2, 1, 2]\n",
            "    ave_quantity =  2.090909090909091\n",
            "  step = 15 -> proposed quantity = [3, 3, 3, 1, 2, 3, 3, 3, 1, 1]\n",
            "    ave_quantity =  2.3\n",
            "  step = 16 -> proposed quantity = [3, 3, 1, 2, 3, 1, 3, 1, 1]\n",
            "    ave_quantity =  2.0\n",
            "  step = 17 -> proposed quantity = [1, 3, 2, 3, 2, 2, 2, 2]\n",
            "    ave_quantity =  2.125\n",
            "  step = 18 -> proposed quantity = [2, 3, 2, 1, 3, 1, 3, 2, 1, 1, 2]\n",
            "    ave_quantity =  1.9090909090909092\n",
            "  step = 19 -> proposed quantity = [3, 3, 3, 3, 1, 2, 2, 3]\n",
            "    ave_quantity =  2.5\n",
            "  step = 20 -> proposed quantity = [2, 2, 2, 2, 1, 3, 1, 1, 2, 3, 1, 3]\n",
            "    ave_quantity =  1.9166666666666667\n",
            "needs = 4\n",
            "  step = 0 -> proposed quantity = [4, 4, 3, 4, 4, 2, 4, 3, 3, 4, 4]\n",
            "    ave_quantity =  3.5454545454545454\n",
            "  step = 1 -> proposed quantity = [4, 3, 2, 4, 3, 2, 3, 4, 3, 4, 1]\n",
            "    ave_quantity =  3.0\n",
            "  step = 2 -> proposed quantity = [4, 4, 3, 3, 3, 1, 1, 3, 4, 4, 4]\n",
            "    ave_quantity =  3.090909090909091\n",
            "  step = 3 -> proposed quantity = [4, 2, 3, 2, 1, 3, 2, 1, 3]\n",
            "    ave_quantity =  2.3333333333333335\n",
            "  step = 4 -> proposed quantity = [4, 4, 3, 4, 3, 1, 1, 2, 1]\n",
            "    ave_quantity =  2.5555555555555554\n",
            "  step = 5 -> proposed quantity = [3, 3, 1, 3, 1, 4, 4, 1, 2, 3, 2, 4]\n",
            "    ave_quantity =  2.5833333333333335\n",
            "  step = 6 -> proposed quantity = [3, 3, 1, 3, 1, 1, 2, 2, 2, 2, 2]\n",
            "    ave_quantity =  2.0\n",
            "  step = 7 -> proposed quantity = [2, 2, 4, 2, 4, 4, 4, 3, 3, 2, 3]\n",
            "    ave_quantity =  3.0\n",
            "  step = 8 -> proposed quantity = [4, 4, 1, 2, 3, 1, 3, 4, 1, 4]\n",
            "    ave_quantity =  2.7\n",
            "  step = 9 -> proposed quantity = [2, 4, 2, 1, 2, 2, 1, 1, 4, 3]\n",
            "    ave_quantity =  2.2\n",
            "  step = 10 -> proposed quantity = [4, 4, 3, 3, 3, 2, 2, 2, 1, 3]\n",
            "    ave_quantity =  2.7\n",
            "  step = 11 -> proposed quantity = [4, 3, 2, 4, 2, 4, 4, 3, 1, 2]\n",
            "    ave_quantity =  2.9\n",
            "  step = 12 -> proposed quantity = [4, 1, 2, 4, 2, 4, 2, 2, 4, 1]\n",
            "    ave_quantity =  2.6\n",
            "  step = 13 -> proposed quantity = [4, 4, 4, 1, 3, 4, 4, 3, 2, 3]\n",
            "    ave_quantity =  3.2\n",
            "  step = 14 -> proposed quantity = [4, 4, 1, 3, 2, 2, 4, 1, 2]\n",
            "    ave_quantity =  2.5555555555555554\n",
            "  step = 15 -> proposed quantity = [1, 4, 1, 1, 1, 4, 4, 3, 1, 1]\n",
            "    ave_quantity =  2.1\n",
            "  step = 16 -> proposed quantity = [3, 4, 4, 4, 1, 3, 4, 4, 4, 1]\n",
            "    ave_quantity =  3.2\n",
            "  step = 17 -> proposed quantity = [2, 4, 1, 4, 1, 2, 1, 3, 4, 2, 2, 1]\n",
            "    ave_quantity =  2.25\n",
            "  step = 18 -> proposed quantity = [3, 3, 2, 1, 3, 1, 2, 4, 3, 1, 4]\n",
            "    ave_quantity =  2.4545454545454546\n",
            "  step = 19 -> proposed quantity = [3, 4, 2, 4, 1, 2, 3, 2, 1, 2, 2]\n",
            "    ave_quantity =  2.3636363636363638\n",
            "  step = 20 -> proposed quantity = [4, 4, 3, 4, 4, 3, 4, 2, 2, 1, 2, 4]\n",
            "    ave_quantity =  3.0833333333333335\n",
            "needs = 5\n",
            "  step = 0 -> proposed quantity = [4, 4, 4, 2, 3, 3, 2, 5, 2, 5, 4, 1]\n",
            "    ave_quantity =  3.25\n",
            "  step = 1 -> proposed quantity = [3, 4, 4, 1, 4, 4, 2, 1, 4, 2]\n",
            "    ave_quantity =  2.9\n",
            "  step = 2 -> proposed quantity = [4, 4, 3, 3, 3, 3, 4, 1, 2, 3, 5]\n",
            "    ave_quantity =  3.1818181818181817\n",
            "  step = 3 -> proposed quantity = [5, 5, 2, 4, 5, 2, 5, 3, 2, 5, 2]\n",
            "    ave_quantity =  3.6363636363636362\n",
            "  step = 4 -> proposed quantity = [4, 5, 2, 2, 3, 1, 1, 4, 4, 4, 4]\n",
            "    ave_quantity =  3.090909090909091\n",
            "  step = 5 -> proposed quantity = [5, 3, 2, 4, 2, 5, 3, 5, 1, 2]\n",
            "    ave_quantity =  3.2\n",
            "  step = 6 -> proposed quantity = [5, 5, 1, 3, 2, 5, 2, 2, 4, 1, 1, 1]\n",
            "    ave_quantity =  2.6666666666666665\n",
            "  step = 7 -> proposed quantity = [2, 5, 3, 2, 1, 3, 2, 2, 4, 4, 1]\n",
            "    ave_quantity =  2.6363636363636362\n",
            "  step = 8 -> proposed quantity = [3, 5, 1, 5, 4, 1, 4, 1, 5, 4]\n",
            "    ave_quantity =  3.3\n",
            "  step = 9 -> proposed quantity = [5, 5, 2, 1, 1, 5, 3, 2, 4, 3, 3, 4]\n",
            "    ave_quantity =  3.1666666666666665\n",
            "  step = 10 -> proposed quantity = [2, 4, 4, 2, 1, 3, 1, 1, 1, 2]\n",
            "    ave_quantity =  2.1\n",
            "  step = 11 -> proposed quantity = [5, 5, 1, 3, 2, 1, 2, 1, 1, 2]\n",
            "    ave_quantity =  2.3\n",
            "  step = 12 -> proposed quantity = [5, 4, 3, 5, 1, 1, 2, 2, 2, 3]\n",
            "    ave_quantity =  2.8\n",
            "  step = 13 -> proposed quantity = [5, 4, 3, 3, 5, 1, 3, 2, 3, 1, 1]\n",
            "    ave_quantity =  2.8181818181818183\n",
            "  step = 14 -> proposed quantity = [5, 1, 2, 5, 4, 5, 4, 4, 4, 4, 4]\n",
            "    ave_quantity =  3.8181818181818183\n",
            "  step = 15 -> proposed quantity = [5, 3, 5, 3, 4, 2, 3, 4, 5, 4, 5]\n",
            "    ave_quantity =  3.909090909090909\n",
            "  step = 16 -> proposed quantity = [3, 4, 5, 1, 5, 1, 5, 3, 3]\n",
            "    ave_quantity =  3.3333333333333335\n",
            "  step = 17 -> proposed quantity = [4, 5, 3, 3, 5, 5, 3, 3, 5, 5, 2, 5]\n",
            "    ave_quantity =  4.0\n",
            "  step = 18 -> proposed quantity = [3, 5, 5, 4, 1, 3, 1, 2, 5, 2]\n",
            "    ave_quantity =  3.1\n",
            "  step = 19 -> proposed quantity = [3, 4, 2, 1, 5, 1, 4, 5, 3, 3, 5, 3]\n",
            "    ave_quantity =  3.25\n",
            "  step = 20 -> proposed quantity = [3, 2, 1, 3, 1, 2, 3, 5, 2, 2, 4, 4]\n",
            "    ave_quantity =  2.6666666666666665\n",
            "needs = 6\n",
            "  step = 0 -> proposed quantity = [4, 5, 1, 1, 3, 6, 5, 2, 3, 3, 5]\n",
            "    ave_quantity =  3.4545454545454546\n",
            "  step = 1 -> proposed quantity = [6, 6, 6, 6, 2, 2, 3, 3, 1, 2]\n",
            "    ave_quantity =  3.7\n",
            "  step = 2 -> proposed quantity = [5, 5, 6, 6, 6, 6, 2, 3, 5, 6, 6]\n",
            "    ave_quantity =  5.090909090909091\n",
            "  step = 3 -> proposed quantity = [5, 6, 5, 2, 2, 5, 3, 3, 4]\n",
            "    ave_quantity =  3.888888888888889\n",
            "  step = 4 -> proposed quantity = [4, 6, 2, 1, 6, 3, 3, 3, 3, 3, 1]\n",
            "    ave_quantity =  3.1818181818181817\n",
            "  step = 5 -> proposed quantity = [4, 4, 2, 4, 4, 3, 5, 6, 6, 5]\n",
            "    ave_quantity =  4.3\n",
            "  step = 6 -> proposed quantity = [5, 6, 3, 5, 1, 3, 2, 2, 5, 3, 1]\n",
            "    ave_quantity =  3.272727272727273\n",
            "  step = 7 -> proposed quantity = [5, 4, 5, 2, 6, 4, 3, 2, 3, 4, 5]\n",
            "    ave_quantity =  3.909090909090909\n",
            "  step = 8 -> proposed quantity = [3, 4, 6, 5, 3, 5, 5, 3, 5, 6, 5]\n",
            "    ave_quantity =  4.545454545454546\n",
            "  step = 9 -> proposed quantity = [5, 6, 6, 3, 3, 6, 3, 1, 2, 4, 4]\n",
            "    ave_quantity =  3.909090909090909\n",
            "  step = 10 -> proposed quantity = [4, 6, 1, 1, 4, 4, 1, 5, 5, 6, 1, 6]\n",
            "    ave_quantity =  3.6666666666666665\n",
            "  step = 11 -> proposed quantity = [6, 5, 1, 3, 5, 2, 2, 1, 1, 4]\n",
            "    ave_quantity =  3.0\n",
            "  step = 12 -> proposed quantity = [6, 6, 3, 6, 4, 6, 6, 4, 6, 2, 5, 6]\n",
            "    ave_quantity =  5.0\n",
            "  step = 13 -> proposed quantity = [6, 6, 1, 5, 3, 5, 2, 2, 1, 5]\n",
            "    ave_quantity =  3.6\n",
            "  step = 14 -> proposed quantity = [2, 5, 3, 6, 1, 1, 6, 6, 6, 1, 2]\n",
            "    ave_quantity =  3.5454545454545454\n",
            "  step = 15 -> proposed quantity = [4, 2, 3, 1, 5, 3, 1, 2, 5, 4]\n",
            "    ave_quantity =  3.0\n",
            "  step = 16 -> proposed quantity = [2, 4, 4, 1, 4, 6, 2, 4, 4, 2]\n",
            "    ave_quantity =  3.3\n",
            "  step = 17 -> proposed quantity = [4, 2, 3, 5, 6, 1, 1, 6, 1, 2]\n",
            "    ave_quantity =  3.1\n",
            "  step = 18 -> proposed quantity = [6, 3, 6, 4, 3, 6, 2, 2, 3, 2, 4]\n",
            "    ave_quantity =  3.727272727272727\n",
            "  step = 19 -> proposed quantity = [3, 3, 4, 6, 4, 4, 6, 4, 3, 3, 1]\n",
            "    ave_quantity =  3.727272727272727\n",
            "  step = 20 -> proposed quantity = [6, 6, 3, 3, 5, 3, 2, 5, 1, 3, 2, 1]\n",
            "    ave_quantity =  3.3333333333333335\n",
            "needs = 7\n",
            "  step = 0 -> proposed quantity = [6, 4, 1, 4, 4, 2, 6, 3, 5, 1]\n",
            "    ave_quantity =  3.6\n",
            "  step = 1 -> proposed quantity = [5, 4, 3, 3, 3, 3, 1, 6, 1, 5]\n",
            "    ave_quantity =  3.4\n",
            "  step = 2 -> proposed quantity = [6, 6, 7, 3, 1, 3, 1, 5, 2, 7]\n",
            "    ave_quantity =  4.1\n",
            "  step = 3 -> proposed quantity = [4, 1, 7, 1, 4, 4, 3, 6, 7, 3, 1]\n",
            "    ave_quantity =  3.727272727272727\n",
            "  step = 4 -> proposed quantity = [6, 5, 4, 4, 3, 3, 3, 6, 3, 6]\n",
            "    ave_quantity =  4.3\n",
            "  step = 5 -> proposed quantity = [5, 4, 5, 1, 6, 7, 5, 5, 6, 4]\n",
            "    ave_quantity =  4.8\n",
            "  step = 6 -> proposed quantity = [6, 2, 1, 6, 3, 2, 3, 6, 1]\n",
            "    ave_quantity =  3.3333333333333335\n",
            "  step = 7 -> proposed quantity = [6, 3, 4, 3, 5, 6, 5, 1, 1, 5]\n",
            "    ave_quantity =  3.9\n",
            "  step = 8 -> proposed quantity = [1, 7, 5, 5, 1, 5, 3, 3, 5, 2]\n",
            "    ave_quantity =  3.7\n",
            "  step = 9 -> proposed quantity = [4, 6, 6, 5, 7, 2, 5, 3, 5, 4, 2]\n",
            "    ave_quantity =  4.454545454545454\n",
            "  step = 10 -> proposed quantity = [7, 5, 7, 5, 7, 2, 3, 3, 7, 3]\n",
            "    ave_quantity =  4.9\n",
            "  step = 11 -> proposed quantity = [5, 6, 1, 6, 2, 3, 7, 2, 5, 4]\n",
            "    ave_quantity =  4.1\n",
            "  step = 12 -> proposed quantity = [5, 1, 2, 6, 4, 3, 3, 2, 2]\n",
            "    ave_quantity =  3.111111111111111\n",
            "  step = 13 -> proposed quantity = [6, 6, 5, 5, 1, 3, 1, 3, 3, 6]\n",
            "    ave_quantity =  3.9\n",
            "  step = 14 -> proposed quantity = [7, 2, 7, 4, 5, 3, 7, 3, 7, 1]\n",
            "    ave_quantity =  4.6\n",
            "  step = 15 -> proposed quantity = [5, 4, 6, 1, 4, 2, 5, 7, 5, 4, 1]\n",
            "    ave_quantity =  4.0\n",
            "  step = 16 -> proposed quantity = [7, 4, 4, 4, 7, 4, 2, 3, 3, 5, 2]\n",
            "    ave_quantity =  4.090909090909091\n",
            "  step = 17 -> proposed quantity = [6, 3, 2, 6, 6, 5, 7, 4, 3, 2, 6]\n",
            "    ave_quantity =  4.545454545454546\n",
            "  step = 18 -> proposed quantity = [3, 6, 4, 5, 4, 5, 1, 1, 3, 1]\n",
            "    ave_quantity =  3.3\n",
            "  step = 19 -> proposed quantity = [6, 2, 2, 3, 4, 6, 3, 1, 1]\n",
            "    ave_quantity =  3.111111111111111\n",
            "  step = 20 -> proposed quantity = [7, 7, 4, 5, 7, 2, 5, 5, 3, 7, 2, 1]\n",
            "    ave_quantity =  4.583333333333333\n",
            "needs = 8\n",
            "  step = 0 -> proposed quantity = [7, 8, 8, 7, 3, 4, 7, 1, 8, 8]\n",
            "    ave_quantity =  6.1\n",
            "  step = 1 -> proposed quantity = [7, 3, 2, 7, 7, 1, 8, 6, 2]\n",
            "    ave_quantity =  4.777777777777778\n",
            "  step = 2 -> proposed quantity = [7, 8, 4, 2, 3, 5, 1, 4, 4]\n",
            "    ave_quantity =  4.222222222222222\n",
            "  step = 3 -> proposed quantity = [7, 6, 1, 7, 8, 7, 5, 8, 2]\n",
            "    ave_quantity =  5.666666666666667\n",
            "  step = 4 -> proposed quantity = [8, 5, 1, 7, 2, 6, 5, 5, 6, 2, 4]\n",
            "    ave_quantity =  4.636363636363637\n",
            "  step = 5 -> proposed quantity = [4, 7, 8, 5, 8, 7, 7, 4, 3, 7]\n",
            "    ave_quantity =  6.0\n",
            "  step = 6 -> proposed quantity = [8, 3, 8, 5, 6, 3, 2, 7, 2]\n",
            "    ave_quantity =  4.888888888888889\n",
            "  step = 7 -> proposed quantity = [8, 8, 4, 3, 1, 7, 2, 4, 4]\n",
            "    ave_quantity =  4.555555555555555\n",
            "  step = 8 -> proposed quantity = [3, 8, 3, 8, 6, 6, 5, 3, 2, 5]\n",
            "    ave_quantity =  4.9\n",
            "  step = 9 -> proposed quantity = [3, 1, 3, 4, 4, 6, 4, 2, 3]\n",
            "    ave_quantity =  3.3333333333333335\n",
            "  step = 10 -> proposed quantity = [8, 8, 6, 2, 4, 3, 4, 7, 8]\n",
            "    ave_quantity =  5.555555555555555\n",
            "  step = 11 -> proposed quantity = [8, 1, 7, 6, 2, 7, 6, 2, 1]\n",
            "    ave_quantity =  4.444444444444445\n",
            "  step = 12 -> proposed quantity = [8, 2, 4, 8, 2, 1, 4, 1, 4]\n",
            "    ave_quantity =  3.7777777777777777\n",
            "  step = 13 -> proposed quantity = [4, 5, 7, 2, 5, 2, 8, 2, 4, 3]\n",
            "    ave_quantity =  4.2\n",
            "  step = 14 -> proposed quantity = [7, 4, 8, 7, 5, 4, 3, 6, 1]\n",
            "    ave_quantity =  5.0\n",
            "  step = 15 -> proposed quantity = [6, 1, 1, 5, 6, 2, 3, 6, 2, 2]\n",
            "    ave_quantity =  3.4\n",
            "  step = 16 -> proposed quantity = [8, 6, 3, 5, 7, 6, 2, 2, 3]\n",
            "    ave_quantity =  4.666666666666667\n",
            "  step = 17 -> proposed quantity = [6, 5, 6, 4, 2, 4, 5, 2, 1, 8]\n",
            "    ave_quantity =  4.3\n",
            "  step = 18 -> proposed quantity = [5, 3, 4, 4, 4, 6, 6, 4, 1]\n",
            "    ave_quantity =  4.111111111111111\n",
            "  step = 19 -> proposed quantity = [7, 5, 7, 8, 5, 6, 7, 7, 7]\n",
            "    ave_quantity =  6.555555555555555\n",
            "  step = 20 -> proposed quantity = [6, 8, 4, 5, 4, 5, 8, 6, 8, 1, 8, 6]\n",
            "    ave_quantity =  5.75\n",
            "needs = 9\n",
            "  step = 0 -> proposed quantity = [7, 1, 4, 4, 4, 1, 2, 4, 4, 8]\n",
            "    ave_quantity =  3.9\n",
            "  step = 1 -> proposed quantity = [6, 6, 6, 8, 5, 4, 7, 6, 5, 6]\n",
            "    ave_quantity =  5.9\n",
            "  step = 2 -> proposed quantity = [4, 6, 4, 7, 6, 4, 3, 9, 6]\n",
            "    ave_quantity =  5.444444444444445\n",
            "  step = 3 -> proposed quantity = [5, 8, 6, 4, 7, 8, 5, 9, 7]\n",
            "    ave_quantity =  6.555555555555555\n",
            "  step = 4 -> proposed quantity = [5, 7, 2, 2, 9, 9, 9, 4, 9]\n",
            "    ave_quantity =  6.222222222222222\n",
            "  step = 5 -> proposed quantity = [9, 8, 3, 1, 8, 9, 4, 8, 2]\n",
            "    ave_quantity =  5.777777777777778\n",
            "  step = 6 -> proposed quantity = [8, 4, 8, 4, 3, 6, 3, 5, 8]\n",
            "    ave_quantity =  5.444444444444445\n",
            "  step = 7 -> proposed quantity = [6, 3, 6, 4, 9, 6, 4, 9, 8]\n",
            "    ave_quantity =  6.111111111111111\n",
            "  step = 8 -> proposed quantity = [2, 7, 5, 3, 5, 3, 3, 7, 4]\n",
            "    ave_quantity =  4.333333333333333\n",
            "  step = 9 -> proposed quantity = [4, 8, 4, 3, 3, 1, 3, 1, 2]\n",
            "    ave_quantity =  3.2222222222222223\n",
            "  step = 10 -> proposed quantity = [3, 7, 5, 8, 4, 6, 5, 6, 9]\n",
            "    ave_quantity =  5.888888888888889\n",
            "  step = 11 -> proposed quantity = [6, 6, 4, 4, 6, 4, 1, 2, 5]\n",
            "    ave_quantity =  4.222222222222222\n",
            "  step = 12 -> proposed quantity = [9, 5, 8, 2, 2, 3, 9, 4, 4]\n",
            "    ave_quantity =  5.111111111111111\n",
            "  step = 13 -> proposed quantity = [4, 9, 2, 2, 9, 1, 5, 4, 3, 8, 3]\n",
            "    ave_quantity =  4.545454545454546\n",
            "  step = 14 -> proposed quantity = [8, 8, 8, 1, 6, 4, 9, 7, 7]\n",
            "    ave_quantity =  6.444444444444445\n",
            "  step = 15 -> proposed quantity = [8, 2, 7, 4, 3, 2, 5, 7, 4]\n",
            "    ave_quantity =  4.666666666666667\n",
            "  step = 16 -> proposed quantity = [4, 9, 6, 5, 4, 8, 8, 3, 2]\n",
            "    ave_quantity =  5.444444444444445\n",
            "  step = 17 -> proposed quantity = [5, 4, 4, 3, 6, 3, 3, 7, 9]\n",
            "    ave_quantity =  4.888888888888889\n",
            "  step = 18 -> proposed quantity = [7, 1, 9, 6, 2, 9, 2, 8, 4]\n",
            "    ave_quantity =  5.333333333333333\n",
            "  step = 19 -> proposed quantity = [4, 8, 9, 9, 3, 8, 9, 5, 4]\n",
            "    ave_quantity =  6.555555555555555\n",
            "  step = 20 -> proposed quantity = [4, 9, 5, 7, 7, 3, 3, 9, 2, 7, 1, 7]\n",
            "    ave_quantity =  5.333333333333333\n",
            "needs = 10\n",
            "  step = 0 -> proposed quantity = [10, 5, 5, 3, 10, 3, 9, 10, 8]\n",
            "    ave_quantity =  7.0\n",
            "  step = 1 -> proposed quantity = [9, 5, 1, 10, 6, 2, 9, 7, 4]\n",
            "    ave_quantity =  5.888888888888889\n",
            "  step = 2 -> proposed quantity = [3, 7, 8, 6, 9, 3, 8, 4, 8]\n",
            "    ave_quantity =  6.222222222222222\n",
            "  step = 3 -> proposed quantity = [5, 9, 5, 10, 4, 10, 7, 10, 5]\n",
            "    ave_quantity =  7.222222222222222\n",
            "  step = 4 -> proposed quantity = [3, 4, 4, 6, 10, 9, 9, 10, 6]\n",
            "    ave_quantity =  6.777777777777778\n",
            "  step = 5 -> proposed quantity = [3, 5, 7, 8, 6, 4, 4, 7, 3]\n",
            "    ave_quantity =  5.222222222222222\n",
            "  step = 6 -> proposed quantity = [2, 6, 7, 10, 6, 10, 9, 6, 7]\n",
            "    ave_quantity =  7.0\n",
            "  step = 7 -> proposed quantity = [10, 5, 8, 5, 9, 8, 9, 5, 9]\n",
            "    ave_quantity =  7.555555555555555\n",
            "  step = 8 -> proposed quantity = [2, 1, 10, 6, 9, 4, 9, 1, 5]\n",
            "    ave_quantity =  5.222222222222222\n",
            "  step = 9 -> proposed quantity = [1, 1, 2, 10, 10, 6, 6, 6, 2]\n",
            "    ave_quantity =  4.888888888888889\n",
            "  step = 10 -> proposed quantity = [1, 9, 8, 2, 9, 9, 10, 10, 3]\n",
            "    ave_quantity =  6.777777777777778\n",
            "  step = 11 -> proposed quantity = [3, 3, 7, 6, 5, 4, 10, 1, 10]\n",
            "    ave_quantity =  5.444444444444445\n",
            "  step = 12 -> proposed quantity = [7, 10, 3, 10, 6, 6, 10, 7, 3]\n",
            "    ave_quantity =  6.888888888888889\n",
            "  step = 13 -> proposed quantity = [9, 10, 8, 10, 1, 7, 9, 10]\n",
            "    ave_quantity =  8.0\n",
            "  step = 14 -> proposed quantity = [4, 1, 4, 8, 4, 3, 3, 7, 2]\n",
            "    ave_quantity =  4.0\n",
            "  step = 15 -> proposed quantity = [8, 5, 4, 6, 10, 5, 2, 10, 2]\n",
            "    ave_quantity =  5.777777777777778\n",
            "  step = 16 -> proposed quantity = [2, 5, 10, 7, 5, 8, 4, 5, 9]\n",
            "    ave_quantity =  6.111111111111111\n",
            "  step = 17 -> proposed quantity = [7, 9, 8, 8, 6, 5, 2, 10, 10]\n",
            "    ave_quantity =  7.222222222222222\n",
            "  step = 18 -> proposed quantity = [4, 5, 7, 8, 4, 8, 3, 4, 6]\n",
            "    ave_quantity =  5.444444444444445\n",
            "  step = 19 -> proposed quantity = [8, 5, 10, 8, 3, 6, 3, 3, 2]\n",
            "    ave_quantity =  5.333333333333333\n",
            "  step = 20 -> proposed quantity = [8, 6, 10, 10, 10, 8, 8, 5, 1]\n",
            "    ave_quantity =  7.333333333333333\n",
            " \n"
          ]
        }
      ]
    },
    {
      "cell_type": "markdown",
      "source": [
        "#####needs, level -> quantity"
      ],
      "metadata": {
        "id": "o1Fio_wSVBuJ"
      }
    },
    {
      "cell_type": "code",
      "source": [
        "needs_level_to_quantity_list = []\n",
        "needs_level_to_selected_number_list = []\n",
        "for needs_value in range(13):\n",
        "    needs_level_to_quantity_list.append([])\n",
        "    needs_level_to_selected_number_list.append([])\n",
        "    for m in range(2):\n",
        "        needs_level_to_quantity_list[needs_value].append([])\n",
        "        needs_level_to_selected_number_list[needs_value].append([])\n",
        "\n",
        "\n",
        "for row in range(6006):\n",
        "    if np.any(Q_value_matrix[row] > 0):\n",
        "        needs_value = calculate_needs_for_Q_value_matrix(row)\n",
        "        step = calculate_step_for_Q_value_matrix(row)\n",
        "        level = calculate_level_for_Q_value_matrix(row)\n",
        "        n_of_partners_value = calculate_n_of_partners_for_Q_value_matrix(row)\n",
        "\n",
        "        act_value = get_random_max_col_index(Q_value_matrix, row)\n",
        "        selected_choice_of_quantity = calculate_choice_of_quantity_for_Q_value_matrix(act_value)\n",
        "        quantity = choice_of_quantity[selected_choice_of_quantity](needs_value-2, n_of_partners_value+1)\n",
        "\n",
        "        needs_level_to_selected_number_list[needs_value][level].append(selected_choice_of_quantity)\n",
        "        needs_level_to_quantity_list[needs_value][level].append(quantity)\n",
        "\n",
        "#print(needs_level_to_quantity_list)\n",
        "\n",
        "for needs_value in range(13):\n",
        "    needs = needs_value - 2\n",
        "    print(\"needs =\", needs)\n",
        "    for level in range(2):\n",
        "        propose_quantity = needs_level_to_quantity_list[needs_value][level]\n",
        "        if propose_quantity != []:\n",
        "            print(\"  level =\", level, \"-> proposed quantity =\", propose_quantity)\n",
        "            print(\"    ave_quantity = \", sum(propose_quantity)/len(propose_quantity))\n"
      ],
      "metadata": {
        "colab": {
          "base_uri": "https://localhost:8080/"
        },
        "id": "qjfvWXo_VFeg",
        "outputId": "3bd5129d-c25f-4ea1-b1ef-6116bf2b345f"
      },
      "execution_count": null,
      "outputs": [
        {
          "output_type": "stream",
          "name": "stdout",
          "text": [
            "needs = -2\n",
            "needs = -1\n",
            "needs = 0\n",
            "needs = 1\n",
            "  level = 0 -> proposed quantity = [1, 1, 1, 1, 1, 1, 1, 1, 1, 1, 1, 1, 1, 1, 1, 1, 1, 1, 1, 1, 1, 1, 1, 1, 1, 1, 1, 1, 1, 1, 1, 1, 1, 1, 1, 1, 1, 1, 1, 1, 1, 1, 1, 1, 1, 1, 1, 1, 1, 1, 1, 1, 1, 1, 1, 1, 1, 1, 1, 1, 1, 1, 1, 1, 1, 1, 1, 1, 1, 1, 1, 1, 1, 1, 1, 1, 1, 1, 1, 1, 1, 1, 1, 1, 1, 1, 1, 1, 1, 1, 1, 1, 1, 1, 1, 1, 1, 1, 1, 1, 1, 1, 1]\n",
            "    ave_quantity =  1.0\n",
            "  level = 1 -> proposed quantity = [1, 1, 1, 1, 1, 1, 1, 1, 1, 1, 1, 1, 1, 1, 1, 1, 1, 1, 1, 1, 1, 1, 1, 1, 1, 1, 1, 1, 1, 1, 1, 1, 1, 1, 1, 1, 1, 1, 1, 1, 1, 1, 1, 1, 1, 1, 1, 1, 1, 1, 1, 1, 1, 1, 1, 1, 1, 1, 1, 1, 1, 1, 1, 1, 1, 1, 1, 1, 1, 1, 1, 1, 1, 1, 1, 1, 1, 1, 1, 1, 1, 1, 1, 1, 1, 1, 1, 1, 1, 1, 1, 1, 1, 1, 1]\n",
            "    ave_quantity =  1.0\n",
            "needs = 2\n",
            "  level = 0 -> proposed quantity = [2, 2, 2, 2, 1, 1, 2, 2, 1, 2, 2, 1, 2, 2, 2, 2, 2, 1, 2, 2, 2, 2, 1, 2, 1, 1, 1, 2, 2, 2, 2, 2, 2, 1, 1, 1, 1, 1, 1, 1, 2, 2, 1, 2, 2, 1, 1, 1, 2, 1, 1, 2, 2, 1, 2, 1, 1, 2, 1, 1, 2, 2, 1, 1, 1, 1, 2, 1, 1, 2, 2, 2, 1, 1, 2, 1, 2, 2, 2, 1, 1, 1, 1, 1, 2, 2, 1, 1, 1, 2, 1, 2, 1]\n",
            "    ave_quantity =  1.5053763440860215\n",
            "  level = 1 -> proposed quantity = [2, 2, 2, 2, 2, 2, 1, 1, 2, 2, 2, 1, 2, 2, 2, 2, 2, 2, 1, 2, 2, 2, 1, 1, 1, 1, 2, 1, 1, 1, 2, 2, 2, 1, 1, 1, 2, 1, 1, 1, 2, 2, 2, 2, 2, 1, 2, 1, 1, 2, 1, 1, 2, 2, 2, 2, 1, 2, 1, 2, 1, 2, 1, 2, 1, 1, 1, 1, 2, 2, 2, 2, 1, 1, 1, 1, 2, 1, 2, 2, 1, 2, 2, 1, 2, 2, 2, 1, 1, 2, 1, 1, 1, 1, 1, 2, 1, 1, 1, 1, 1, 1, 1, 2, 2]\n",
            "    ave_quantity =  1.5142857142857142\n",
            "needs = 3\n",
            "  level = 0 -> proposed quantity = [2, 3, 2, 3, 1, 3, 2, 3, 3, 3, 3, 3, 3, 3, 3, 3, 3, 1, 2, 3, 2, 3, 2, 3, 2, 3, 3, 3, 1, 2, 2, 2, 3, 3, 1, 2, 2, 3, 2, 1, 3, 2, 2, 2, 2, 3, 2, 2, 2, 2, 2, 3, 1, 2, 2, 3, 2, 3, 1, 1, 2, 3, 1, 2, 1, 2, 1, 2, 1, 2, 1, 2, 2, 1, 2, 3, 3, 1, 1, 2, 2, 2, 2, 1, 3, 1, 2, 3, 2, 1, 1, 2, 2, 2, 1]\n",
            "    ave_quantity =  2.1157894736842104\n",
            "  level = 1 -> proposed quantity = [3, 2, 3, 3, 3, 3, 3, 3, 2, 3, 3, 2, 3, 3, 3, 3, 3, 3, 3, 3, 2, 2, 1, 2, 1, 3, 2, 1, 2, 2, 3, 1, 3, 2, 1, 3, 1, 2, 3, 1, 3, 2, 1, 1, 2, 1, 1, 2, 3, 2, 2, 3, 1, 3, 1, 1, 1, 3, 1, 2, 1, 2, 3, 2, 1, 3, 3, 2, 2, 1, 2, 2, 2, 1, 3, 2, 3, 1, 3, 3, 2, 2, 2, 1, 3, 2, 1, 1, 1, 3, 1, 3, 2, 1, 3, 1, 1, 2, 1, 1, 1, 2, 1, 3, 3, 1, 1, 2, 3, 1, 1, 1, 2, 1, 2, 3]\n",
            "    ave_quantity =  2.0258620689655173\n",
            "needs = 4\n",
            "  level = 0 -> proposed quantity = [4, 4, 4, 4, 3, 3, 2, 4, 2, 4, 4, 4, 4, 1, 3, 2, 3, 3, 4, 3, 2, 3, 2, 3, 1, 1, 4, 1, 2, 2, 4, 1, 4, 1, 2, 2, 3, 4, 3, 3, 2, 3, 1, 1, 4, 3, 2, 3, 2, 4, 1, 1, 1, 1, 3, 1, 4, 4, 3, 1, 4, 2, 4, 2, 4, 4, 4, 2, 4, 4, 1, 2, 3, 4, 3, 3, 4, 2, 2, 2, 3, 4, 2, 2, 4, 4, 3, 2, 4, 1, 3, 2, 4, 2, 2, 2, 2, 2, 2]\n",
            "    ave_quantity =  2.707070707070707\n",
            "  level = 1 -> proposed quantity = [4, 3, 4, 4, 4, 3, 3, 2, 4, 4, 4, 3, 1, 4, 4, 4, 4, 4, 3, 4, 4, 4, 4, 3, 3, 4, 3, 3, 2, 2, 1, 3, 4, 2, 4, 1, 1, 4, 4, 1, 4, 4, 2, 2, 1, 1, 1, 4, 1, 4, 1, 2, 3, 4, 2, 3, 3, 4, 3, 2, 1, 2, 3, 3, 4, 3, 3, 1, 1, 2, 3, 3, 1, 2, 3, 2, 4, 2, 3, 4, 3, 4, 2, 2, 4, 4, 4, 1, 2, 3, 2, 2, 1, 1, 1, 1, 4, 3, 1, 1, 4, 2, 1, 1, 1, 4, 1, 4, 2, 3, 4, 3, 3, 1, 3, 1, 1, 1, 4, 2, 4]\n",
            "    ave_quantity =  2.677685950413223\n",
            "needs = 5\n",
            "  level = 0 -> proposed quantity = [4, 3, 4, 5, 4, 5, 5, 2, 5, 2, 5, 5, 3, 4, 3, 3, 3, 4, 3, 2, 2, 1, 3, 2, 4, 4, 1, 5, 3, 2, 1, 3, 2, 2, 1, 1, 3, 5, 3, 5, 4, 5, 4, 5, 1, 2, 4, 3, 2, 1, 5, 2, 3, 4, 3, 1, 1, 1, 1, 5, 3, 5, 3, 3, 4, 3, 2, 2, 1, 3, 4, 5, 4, 2, 4, 4, 1, 1, 2, 2, 4, 5, 5, 5, 2, 3, 2, 4, 4, 3, 5, 4, 1, 4, 5, 3, 1, 1, 4, 5, 3, 2, 2, 5, 4]\n",
            "    ave_quantity =  3.123809523809524\n",
            "  level = 1 -> proposed quantity = [4, 4, 4, 5, 5, 3, 5, 5, 3, 5, 4, 5, 5, 5, 5, 3, 4, 5, 5, 4, 2, 2, 4, 3, 4, 2, 4, 3, 2, 5, 1, 4, 1, 3, 3, 2, 3, 5, 3, 5, 1, 3, 3, 1, 3, 5, 3, 2, 5, 1, 5, 5, 2, 2, 1, 5, 4, 2, 1, 5, 1, 1, 2, 5, 4, 4, 5, 1, 3, 2, 2, 1, 2, 3, 2, 2, 3, 4, 4, 1, 3, 1, 5, 5, 5, 1, 2, 2, 4, 1, 1, 4, 1, 3, 1, 1, 2, 3, 4, 4, 3, 5, 5, 3, 2, 1, 2, 5, 2, 4, 2, 1, 1, 4, 4, 2, 2, 3, 1, 4, 5, 3, 4]\n",
            "    ave_quantity =  3.097560975609756\n",
            "needs = 6\n",
            "  level = 0 -> proposed quantity = [4, 6, 5, 4, 4, 5, 5, 3, 5, 4, 6, 6, 6, 2, 2, 6, 3, 6, 1, 6, 2, 3, 6, 1, 3, 3, 2, 4, 3, 2, 5, 4, 4, 3, 4, 5, 6, 2, 6, 2, 3, 4, 3, 4, 5, 6, 1, 5, 6, 3, 1, 5, 4, 6, 6, 4, 2, 2, 3, 3, 5, 3, 5, 2, 2, 3, 1, 5, 2, 6, 2, 6, 1, 2, 1, 2, 4, 1, 3, 1, 6, 3, 3, 6, 3, 4, 6, 4, 1, 1, 5, 1, 1, 5, 4, 1, 2, 3, 2]\n",
            "    ave_quantity =  3.5656565656565657\n",
            "  level = 1 -> proposed quantity = [5, 6, 5, 5, 6, 4, 6, 4, 4, 6, 6, 5, 6, 6, 5, 4, 4, 4, 3, 3, 6, 1, 6, 6, 6, 1, 2, 5, 5, 6, 3, 1, 1, 6, 1, 6, 3, 4, 2, 6, 6, 3, 3, 6, 6, 5, 6, 4, 1, 6, 3, 3, 4, 3, 6, 5, 1, 1, 1, 5, 3, 4, 3, 5, 2, 2, 2, 3, 3, 2, 3, 5, 3, 5, 2, 4, 5, 6, 3, 6, 1, 2, 6, 5, 3, 3, 5, 3, 3, 6, 5, 3, 5, 2, 6, 1, 2, 2, 6, 2, 4, 6, 3, 3, 3, 5, 2, 6, 4, 1, 5, 1, 5, 5, 4, 6, 4, 6, 5, 2, 4, 2, 2, 4, 1, 1]\n",
            "    ave_quantity =  3.873015873015873\n",
            "needs = 7\n",
            "  level = 0 -> proposed quantity = [6, 4, 5, 1, 4, 7, 5, 6, 5, 7, 3, 7, 4, 5, 3, 6, 3, 4, 1, 1, 5, 7, 4, 6, 7, 4, 3, 1, 4, 3, 6, 6, 5, 1, 2, 7, 2, 6, 1, 5, 2, 4, 5, 4, 3, 5, 6, 1, 1, 6, 3, 5, 2, 5, 3, 3, 3, 7, 3, 1, 7, 7, 3, 4, 1, 6, 3, 5, 1, 2, 3, 3, 6, 6, 1, 5, 4, 7, 5, 2, 3, 7, 4, 5, 2, 3, 1, 2]\n",
            "    ave_quantity =  4.0\n",
            "  level = 1 -> proposed quantity = [6, 5, 6, 1, 6, 4, 6, 6, 7, 6, 5, 6, 5, 6, 7, 4, 4, 6, 6, 6, 7, 4, 3, 7, 7, 4, 5, 2, 4, 5, 6, 7, 1, 1, 5, 2, 1, 4, 2, 4, 2, 5, 4, 3, 3, 4, 4, 1, 1, 3, 5, 7, 5, 6, 2, 5, 4, 4, 7, 6, 5, 2, 2, 2, 3, 3, 3, 3, 7, 3, 6, 5, 5, 2, 3, 4, 3, 3, 5, 2, 7, 5, 4, 5, 3, 6, 5, 7, 6, 5, 3, 1, 3, 5, 3, 2, 3, 3, 3, 5, 3, 3, 1, 3, 7, 1, 5, 7, 1, 6, 4, 1, 5, 2, 2, 3, 4, 2, 6, 1, 1, 2, 6, 1, 1, 1]\n",
            "    ave_quantity =  4.0\n",
            "needs = 8\n",
            "  level = 0 -> proposed quantity = [7, 8, 3, 4, 6, 4, 7, 8, 1, 6, 4, 3, 7, 2, 7, 6, 8, 5, 3, 6, 4, 2, 6, 8, 5, 7, 6, 5, 2, 4, 8, 8, 7, 1, 5, 7, 5, 7, 3, 7, 5, 6, 3, 7, 1, 8, 4, 3, 6, 5, 6, 6, 8, 8, 6, 4, 8, 2, 3, 7, 4, 2, 2, 7, 2, 1, 4, 6, 2, 2, 1, 4, 7, 8]\n",
            "    ave_quantity =  5.0\n",
            "  level = 1 -> proposed quantity = [8, 7, 7, 7, 5, 4, 8, 8, 8, 3, 8, 8, 8, 5, 7, 6, 8, 6, 5, 7, 8, 8, 3, 8, 6, 1, 7, 3, 8, 3, 1, 8, 1, 2, 7, 4, 1, 6, 5, 3, 5, 5, 7, 2, 4, 1, 2, 5, 8, 4, 8, 3, 6, 7, 4, 2, 8, 5, 3, 4, 4, 7, 5, 4, 7, 3, 8, 5, 7, 6, 1, 6, 4, 4, 2, 2, 2, 5, 2, 7, 4, 4, 5, 6, 1, 8, 1, 5, 6, 4, 2, 2, 3, 4, 4, 6, 4, 2, 3, 6, 2, 2, 6, 7, 1, 8, 2, 4, 2, 4, 7, 2, 4, 5, 3, 8, 1, 4, 3, 1, 2, 3, 8, 1, 7, 6]\n",
            "    ave_quantity =  4.7063492063492065\n",
            "needs = 9\n",
            "  level = 0 -> proposed quantity = [7, 6, 4, 4, 5, 7, 7, 4, 5, 7, 4, 2, 1, 4, 4, 3, 3, 8, 4, 2, 1, 1, 4, 5, 3, 6, 9, 3, 2, 7, 4, 8, 9, 9, 6, 6, 3, 1, 6, 4, 3, 4, 4, 2, 8, 3, 9, 8, 2, 4, 5, 9, 9, 4, 8, 5, 9, 7, 1, 6, 2, 4, 8, 7, 7, 3, 7, 8, 5, 1]\n",
            "    ave_quantity =  5.0\n",
            "  level = 1 -> proposed quantity = [1, 6, 4, 5, 5, 9, 8, 6, 2, 4, 3, 6, 9, 9, 8, 8, 4, 5, 7, 4, 9, 4, 6, 6, 8, 7, 8, 4, 3, 7, 8, 7, 6, 5, 2, 8, 2, 9, 4, 1, 8, 7, 4, 8, 4, 6, 2, 3, 8, 6, 5, 4, 5, 4, 8, 9, 8, 7, 6, 4, 9, 9, 3, 1, 4, 6, 7, 9, 8, 3, 9, 5, 3, 4, 6, 2, 5, 6, 3, 4, 6, 2, 3, 9, 4, 6, 3, 5, 9, 4, 3, 4, 3, 3, 5, 1, 9, 3, 9, 5, 8, 3, 2, 9, 7, 8, 6, 6, 7, 9, 2, 8, 8, 4, 2, 9, 5, 4, 3, 7, 4, 2, 9, 4, 4, 7]\n",
            "    ave_quantity =  5.492063492063492\n",
            "needs = 10\n",
            "  level = 0 -> proposed quantity = [3, 10, 6, 10, 6, 8, 10, 5, 6, 10, 2, 6, 10, 8, 8, 6, 7, 8, 8, 8, 10, 3, 2, 3, 10, 9, 4, 10, 8, 4, 6, 9, 4, 6, 1, 3, 5, 8, 5, 8, 6, 8, 10, 7, 4, 10, 10, 7, 6, 5, 1, 6, 10, 1, 7, 9, 7, 10, 5, 10, 4, 3, 5]\n",
            "    ave_quantity =  6.571428571428571\n",
            "  level = 1 -> proposed quantity = [10, 9, 3, 5, 3, 3, 2, 10, 2, 1, 1, 3, 7, 4, 8, 2, 7, 4, 8, 8, 5, 5, 7, 9, 4, 5, 6, 5, 1, 1, 9, 3, 10, 9, 1, 5, 5, 9, 5, 5, 6, 5, 1, 8, 5, 4, 7, 7, 8, 10, 2, 8, 7, 3, 10, 4, 4, 10, 8, 7, 10, 10, 10, 6, 9, 4, 10, 6, 6, 9, 9, 10, 9, 5, 6, 10, 4, 10, 5, 6, 4, 3, 10, 9, 9, 8, 7, 9, 4, 9, 9, 9, 6, 10, 10, 10, 7, 3, 2, 4, 2, 3, 3, 8, 8, 4, 8, 5, 6, 3, 7, 9, 5, 2, 3, 10, 3, 10, 2, 2, 9, 10, 6, 2, 1]\n",
            "    ave_quantity =  6.08\n"
          ]
        }
      ]
    },
    {
      "cell_type": "markdown",
      "source": [
        "#####needs, n_of_partners -> quantity"
      ],
      "metadata": {
        "id": "pHMXRJ9OSIad"
      }
    },
    {
      "cell_type": "code",
      "source": [
        "#needs, n_of_partners -> quantity\n",
        "needs_m_to_quantity_list = []\n",
        "needs_m_to_selected_number_list = []\n",
        "#needs_to_quantity = []\n",
        "for needs_value in range(13):\n",
        "    needs_m_to_quantity_list.append([])\n",
        "    needs_m_to_selected_number_list.append([])\n",
        "    for m in range(11):\n",
        "        needs_m_to_quantity_list[needs_value].append([])\n",
        "        needs_m_to_selected_number_list[needs_value].append([])\n",
        "\n",
        "\n",
        "for row in range(6006):\n",
        "    if np.any(Q_value_matrix[row] > 0):\n",
        "        needs_value = calculate_needs_for_Q_value_matrix(row)\n",
        "        n_of_partners_value = calculate_n_of_partners_for_Q_value_matrix(row)\n",
        "        act_value = get_random_max_col_index(Q_value_matrix, row)\n",
        "        selected_choice_of_quantity = calculate_choice_of_quantity_for_Q_value_matrix(act_value)\n",
        "        quantity = choice_of_quantity[selected_choice_of_quantity](needs_value-2, n_of_partners_value+1)\n",
        "        needs_m_to_selected_number_list[needs_value][n_of_partners_value].append(selected_choice_of_quantity)\n",
        "        needs_m_to_quantity_list[needs_value][n_of_partners_value].append(quantity)\n",
        "\n",
        "\n",
        "for needs_value in range(13):\n",
        "    needs = needs_value - 2\n",
        "    print(\"needs =\", needs)\n",
        "    for m in range(11):\n",
        "        n_of_partners = m + 1\n",
        "        propose_quantity = needs_m_to_quantity_list[needs_value][m]\n",
        "        if propose_quantity != []:\n",
        "            average = sum(propose_quantity)/len(propose_quantity)\n",
        "            if len(propose_quantity) > 1:\n",
        "                variance = statistics.variance(propose_quantity)\n",
        "            else:\n",
        "                variance = 0\n",
        "            #variance = np.var()\n",
        "            print(\"    n_of_partners =\", n_of_partners, \"-> proposed quantity =\", propose_quantity)\n",
        "            print(\"    ave =\", round(average, 3), \"var =\", round(variance, 3))\n",
        "\n",
        "print(\" \")\n",
        "\n",
        "\n",
        "\n",
        "#table\n",
        "print(\"medium quantity\")\n",
        "ave_list = []\n",
        "for needs_value in range(10):\n",
        "    needs = needs_value + 1\n",
        "    ave_list.append([])\n",
        "    for n_of_partners_value in range(6):\n",
        "        n_of_partners = n_of_partners_value + 1\n",
        "        propose_quantity = needs_m_to_quantity_list[needs_value + 3][n_of_partners_value]\n",
        "        if propose_quantity != []:\n",
        "            average = statistics.median(propose_quantity)\n",
        "            #compare = math.ceil(average) + math.ceil(-needs/2)\n",
        "            compare = round(average)# + math.ceil(-needs/2)\n",
        "            ave_list[needs_value].append(compare)\n",
        "\n",
        "columns = []\n",
        "for n_of_partners_value in range(6):\n",
        "    columns.append(\"m=\" + str(n_of_partners_value + 1))\n",
        "index = []\n",
        "for needs_value in range(10):\n",
        "    index.append(\"needs=\" + str(needs_value + 1))\n",
        "\n",
        "df = pd.DataFrame(ave_list, columns = columns, index = index)\n",
        "\n",
        "print(df)\n",
        "\n",
        "print(\" \")\n",
        "\n",
        "\n",
        "\n",
        "#table\n",
        "print(\"ave quantity\")\n",
        "ave_list = []\n",
        "for needs_value in range(10):\n",
        "    needs = needs_value + 1\n",
        "    ave_list.append([])\n",
        "    for n_of_partners_value in range(6):\n",
        "        n_of_partners = n_of_partners_value + 1\n",
        "        propose_quantity = needs_m_to_quantity_list[needs_value + 3][n_of_partners_value]\n",
        "        if propose_quantity != []:\n",
        "            average = sum(propose_quantity)/len(propose_quantity)\n",
        "            #compare = math.ceil(average) + math.ceil(-needs/2)\n",
        "            compare = round(average)# + math.ceil(-needs/2)\n",
        "            ave_list[needs_value].append(compare)\n",
        "\n",
        "columns = []\n",
        "for n_of_partners_value in range(6):\n",
        "    columns.append(\"m=\" + str(n_of_partners_value + 1))\n",
        "index = []\n",
        "for needs_value in range(10):\n",
        "    index.append(\"needs=\" + str(needs_value + 1))\n",
        "\n",
        "df = pd.DataFrame(ave_list, columns = columns, index = index)\n",
        "\n",
        "print(df)\n",
        "\n",
        "print(\" \")\n",
        "\n",
        "\n",
        "\n",
        "if True:\n",
        "    #table\n",
        "    print(\"compare with math.ceil(needs/2)\")\n",
        "    ave_list = []\n",
        "    for needs_value in range(10):\n",
        "        needs = needs_value + 1\n",
        "        ave_list.append([])\n",
        "        for n_of_partners_value in range(6):\n",
        "            n_of_partners = n_of_partners_value + 1\n",
        "            propose_quantity = needs_m_to_quantity_list[needs_value + 3][n_of_partners_value]\n",
        "            if propose_quantity != []:\n",
        "                average = sum(propose_quantity)/len(propose_quantity)\n",
        "                compare = round(average - math.ceil(needs/2), 1)\n",
        "                compare = round(average) - math.ceil(needs/2)\n",
        "                ave_list[needs_value].append(compare)\n",
        "\n",
        "    columns = []\n",
        "    for n_of_partners_value in range(6):\n",
        "        columns.append(\"m=\" + str(n_of_partners_value + 1))\n",
        "    index = []\n",
        "    for needs_value in range(10):\n",
        "        index.append(\"needs=\" + str(needs_value + 1))\n",
        "\n",
        "    df = pd.DataFrame(ave_list, columns = columns, index = index)\n",
        "\n",
        "    print(df)\n",
        "print(\" \")\n",
        "\n",
        "if False:\n",
        "    #table\n",
        "    print(\"compare with math.ceil(needs/2)\")\n",
        "    ave_list = []\n",
        "    for needs_value in range(10):\n",
        "        needs = needs_value + 1\n",
        "        ave_list.append([])\n",
        "        for n_of_partners_value in range(6):\n",
        "            n_of_partners = n_of_partners_value + 1\n",
        "            propose_quantity = needs_m_to_quantity_list[needs_value + 3][n_of_partners_value]\n",
        "            if propose_quantity != []:\n",
        "                average = sum(propose_quantity)/len(propose_quantity)\n",
        "                compare = -math.ceil(-average) - math.ceil(needs/2)\n",
        "                ave_list[needs_value].append(compare)\n",
        "\n",
        "    columns = []\n",
        "    for n_of_partners_value in range(6):\n",
        "        columns.append(\"m=\" + str(n_of_partners_value + 1))\n",
        "    index = []\n",
        "    for needs_value in range(10):\n",
        "        index.append(\"needs=\" + str(needs_value + 1))\n",
        "\n",
        "    df = pd.DataFrame(ave_list, columns = columns, index = index)\n",
        "\n",
        "    print(df)\n",
        "\n",
        "\n",
        "\n",
        "\n",
        "\n",
        "#table\n",
        "print(\"compare with -math.ceil(-needs/2)\")\n",
        "ave_list = []\n",
        "for needs_value in range(10):\n",
        "    needs = needs_value + 1\n",
        "    ave_list.append([])\n",
        "    for n_of_partners_value in range(6):\n",
        "        n_of_partners = n_of_partners_value + 1\n",
        "        propose_quantity = needs_m_to_quantity_list[needs_value + 3][n_of_partners_value]\n",
        "        if propose_quantity != []:\n",
        "            average = sum(propose_quantity)/len(propose_quantity)\n",
        "            #compare = math.ceil(average) + math.ceil(-needs/2)\n",
        "            compare = round(average) + math.ceil(-needs/2)\n",
        "            ave_list[needs_value].append(compare)\n",
        "\n",
        "columns = []\n",
        "for n_of_partners_value in range(6):\n",
        "    columns.append(\"m=\" + str(n_of_partners_value + 1))\n",
        "index = []\n",
        "for needs_value in range(10):\n",
        "    index.append(\"needs=\" + str(needs_value + 1))\n",
        "\n",
        "df = pd.DataFrame(ave_list, columns = columns, index = index)\n",
        "\n",
        "print(df)\n",
        "\n",
        "\n",
        "\n",
        "if False: #math.ceilの処理をまとめてみたた\n",
        "    #table\n",
        "    print(\"compare with math.ceil(needs/2)\")\n",
        "    ave_list = []\n",
        "    for needs_value in range(10):\n",
        "        needs = needs_value + 1\n",
        "        ave_list.append([])\n",
        "        for n_of_partners_value in range(6):\n",
        "            n_of_partners = n_of_partners_value + 1\n",
        "            propose_quantity = needs_m_to_quantity_list[needs_value + 3][n_of_partners_value]\n",
        "            if propose_quantity != []:\n",
        "                average = sum(propose_quantity)/len(propose_quantity)\n",
        "                compare = math.ceil(average - needs/2)\n",
        "                ave_list[needs_value].append(compare)\n",
        "\n",
        "    columns = []\n",
        "    for n_of_partners_value in range(6):\n",
        "        columns.append(\"m=\" + str(n_of_partners_value + 1))\n",
        "    index = []\n",
        "    for needs_value in range(10):\n",
        "        index.append(\"needs=\" + str(needs_value + 1))\n",
        "\n",
        "    df = pd.DataFrame(ave_list, columns = columns, index = index)\n",
        "\n",
        "    print(df)\n",
        "\n",
        "\n",
        "\n",
        "\n",
        "\n",
        "\n",
        "\n",
        "\n",
        "\n",
        "\n",
        "if False:\n",
        "    for needs_value in range(13):\n",
        "        needs = needs_value - 2\n",
        "        print(\"needs =\", needs)\n",
        "        for m in range(11):\n",
        "            n_of_partners = m + 1\n",
        "            selected_choice = needs_m_to_selected_number_list[needs_value][m]\n",
        "            if selected_choice != []:\n",
        "                print(\"  n_of_partners =\", n_of_partners, \"-> selected choice of quantity =\", selected_choice)\n",
        "                print(\"    ave =\", sum()/len())"
      ],
      "metadata": {
        "colab": {
          "base_uri": "https://localhost:8080/"
        },
        "id": "PBwfEEGzSDKC",
        "outputId": "cf8eb592-f25a-4b68-943c-cdd83aa46862"
      },
      "execution_count": null,
      "outputs": [
        {
          "output_type": "stream",
          "name": "stdout",
          "text": [
            "needs = -2\n",
            "needs = -1\n",
            "needs = 0\n",
            "needs = 1\n",
            "    n_of_partners = 1 -> proposed quantity = [1, 1, 1, 1, 1, 1, 1, 1, 1, 1, 1, 1, 1, 1, 1, 1, 1, 1, 1, 1, 1, 1, 1, 1, 1, 1, 1, 1, 1, 1, 1, 1, 1, 1, 1, 1, 1, 1, 1, 1, 1, 1]\n",
            "    ave = 1.0 var = 0\n",
            "    n_of_partners = 2 -> proposed quantity = [1, 1, 1, 1, 1, 1, 1, 1, 1, 1, 1, 1, 1, 1, 1, 1, 1, 1, 1, 1, 1, 1, 1, 1, 1, 1, 1, 1, 1, 1, 1, 1, 1, 1, 1, 1, 1, 1, 1, 1, 1, 1]\n",
            "    ave = 1.0 var = 0\n",
            "    n_of_partners = 3 -> proposed quantity = [1, 1, 1, 1, 1, 1, 1, 1, 1, 1, 1, 1, 1, 1, 1, 1, 1, 1, 1, 1, 1, 1, 1, 1, 1, 1, 1, 1, 1, 1, 1, 1, 1, 1, 1, 1, 1, 1, 1, 1, 1, 1]\n",
            "    ave = 1.0 var = 0\n",
            "    n_of_partners = 4 -> proposed quantity = [1, 1, 1, 1, 1, 1, 1, 1, 1, 1, 1, 1, 1, 1, 1, 1, 1, 1, 1, 1, 1, 1, 1, 1, 1, 1, 1, 1, 1, 1, 1, 1, 1, 1, 1, 1, 1, 1, 1, 1, 1]\n",
            "    ave = 1.0 var = 0\n",
            "    n_of_partners = 5 -> proposed quantity = [1, 1, 1, 1, 1, 1, 1, 1, 1, 1, 1, 1, 1, 1, 1, 1, 1, 1, 1, 1, 1, 1, 1, 1, 1, 1, 1, 1, 1, 1]\n",
            "    ave = 1.0 var = 0\n",
            "    n_of_partners = 6 -> proposed quantity = [1]\n",
            "    ave = 1.0 var = 0\n",
            "needs = 2\n",
            "    n_of_partners = 1 -> proposed quantity = [2, 2, 2, 2, 1, 1, 2, 2, 1, 2, 2, 1, 2, 2, 2, 2, 2, 1, 2, 2, 2, 2, 2, 2, 2, 2, 2, 1, 1, 2, 2, 2, 1, 2, 2, 2, 2, 2, 2, 1, 2, 2]\n",
            "    ave = 1.786 var = 0.172\n",
            "    n_of_partners = 2 -> proposed quantity = [2, 1, 2, 1, 1, 1, 2, 2, 2, 2, 2, 2, 1, 1, 1, 1, 1, 1, 1, 2, 2, 2, 1, 1, 1, 1, 2, 1, 1, 1, 2, 2, 2, 1, 1, 1, 2, 1, 1, 1, 2, 2]\n",
            "    ave = 1.429 var = 0.251\n",
            "    n_of_partners = 3 -> proposed quantity = [1, 2, 2, 1, 1, 1, 2, 1, 1, 2, 2, 1, 2, 1, 1, 2, 1, 1, 2, 2, 1, 2, 2, 2, 1, 2, 1, 1, 2, 1, 1, 2, 2, 2, 2, 1, 2, 1, 2, 1, 2, 1]\n",
            "    ave = 1.5 var = 0.256\n",
            "    n_of_partners = 4 -> proposed quantity = [1, 1, 1, 2, 1, 1, 2, 2, 2, 1, 1, 2, 1, 2, 2, 2, 1, 1, 1, 1, 2, 1, 1, 1, 1, 2, 2, 2, 2, 1, 1, 1, 1, 2, 1, 2, 2, 1, 2, 2, 1]\n",
            "    ave = 1.439 var = 0.252\n",
            "    n_of_partners = 5 -> proposed quantity = [1, 2, 2, 1, 1, 1, 2, 2, 2, 2, 1, 1, 2, 1, 1, 1, 1, 1, 2, 1, 1, 1, 1, 1]\n",
            "    ave = 1.333 var = 0.232\n",
            "    n_of_partners = 6 -> proposed quantity = [1, 2, 1, 1, 1, 2, 2]\n",
            "    ave = 1.429 var = 0.286\n",
            "needs = 3\n",
            "    n_of_partners = 1 -> proposed quantity = [2, 3, 2, 3, 1, 3, 2, 3, 3, 3, 3, 3, 3, 3, 3, 3, 3, 1, 2, 3, 2, 3, 2, 3, 3, 3, 3, 3, 3, 2, 3, 3, 2, 3, 3, 3, 3, 3, 3, 3, 3, 2]\n",
            "    ave = 2.69 var = 0.316\n",
            "    n_of_partners = 2 -> proposed quantity = [3, 2, 3, 2, 3, 3, 3, 1, 2, 2, 2, 3, 3, 1, 2, 2, 3, 2, 2, 1, 2, 1, 3, 2, 1, 2, 2, 3, 1, 3, 2, 1, 3, 1, 2, 3, 1, 3, 2]\n",
            "    ave = 2.128 var = 0.588\n",
            "    n_of_partners = 3 -> proposed quantity = [1, 3, 2, 2, 2, 2, 3, 2, 2, 2, 2, 2, 3, 1, 2, 2, 3, 2, 3, 1, 1, 1, 1, 2, 1, 1, 2, 3, 2, 2, 3, 1, 3, 1, 1, 1, 3, 1, 2, 1, 2, 3]\n",
            "    ave = 1.905 var = 0.576\n",
            "    n_of_partners = 4 -> proposed quantity = [2, 3, 1, 2, 1, 2, 1, 2, 1, 2, 1, 2, 2, 1, 2, 3, 3, 1, 2, 1, 3, 3, 2, 2, 1, 2, 2, 2, 1, 3, 2, 3, 1, 3, 3, 2, 2, 2, 1]\n",
            "    ave = 1.923 var = 0.547\n",
            "    n_of_partners = 5 -> proposed quantity = [1, 2, 2, 2, 2, 1, 3, 1, 2, 3, 2, 1, 1, 2, 3, 2, 1, 1, 1, 3, 1, 3, 2, 1, 3, 1, 1, 2, 1, 1, 1, 2, 1, 3, 3]\n",
            "    ave = 1.771 var = 0.652\n",
            "    n_of_partners = 6 -> proposed quantity = [2, 2, 1, 1, 1, 2, 3, 1, 1, 1, 2, 1, 2, 3]\n",
            "    ave = 1.643 var = 0.555\n",
            "needs = 4\n",
            "    n_of_partners = 1 -> proposed quantity = [4, 4, 4, 4, 3, 3, 2, 4, 2, 4, 4, 4, 4, 1, 3, 2, 3, 3, 4, 4, 3, 4, 4, 4, 3, 3, 2, 4, 4, 4, 3, 1, 4, 4, 4, 4, 4, 3, 4, 4]\n",
            "    ave = 3.4 var = 0.759\n",
            "    n_of_partners = 2 -> proposed quantity = [3, 2, 3, 2, 3, 1, 1, 4, 1, 2, 2, 4, 1, 4, 1, 2, 2, 3, 4, 4, 3, 3, 4, 3, 3, 2, 2, 1, 3, 4, 2, 4, 1, 1, 4, 4, 1, 4, 4]\n",
            "    ave = 2.615 var = 1.348\n",
            "    n_of_partners = 3 -> proposed quantity = [4, 3, 3, 2, 3, 1, 1, 4, 3, 2, 3, 2, 4, 1, 1, 1, 1, 3, 1, 4, 2, 2, 1, 1, 1, 4, 1, 4, 1, 2, 3, 4, 2, 3, 3, 4, 3, 2, 1, 2, 3]\n",
            "    ave = 2.341 var = 1.28\n",
            "    n_of_partners = 4 -> proposed quantity = [4, 3, 1, 4, 2, 4, 2, 4, 4, 4, 2, 4, 4, 1, 2, 3, 4, 3, 4, 3, 3, 1, 1, 2, 3, 3, 1, 2, 3, 2, 4, 2, 3, 4, 3, 4, 2, 2]\n",
            "    ave = 2.816 var = 1.127\n",
            "    n_of_partners = 5 -> proposed quantity = [3, 3, 4, 2, 2, 2, 3, 4, 2, 2, 4, 4, 3, 2, 4, 4, 4, 1, 2, 3, 2, 2, 1, 1, 1, 1, 4, 3, 1, 1, 4, 2, 1, 1, 1]\n",
            "    ave = 2.4 var = 1.365\n",
            "    n_of_partners = 6 -> proposed quantity = [4, 1, 3, 2, 4, 2, 2, 2, 2, 2, 2, 4, 1, 4, 2, 3, 4, 3, 3, 1, 3, 1, 1, 1, 4, 2, 4]\n",
            "    ave = 2.481 var = 1.259\n",
            "needs = 5\n",
            "    n_of_partners = 1 -> proposed quantity = [4, 3, 4, 5, 4, 5, 5, 2, 5, 2, 5, 5, 3, 4, 3, 3, 3, 4, 4, 4, 5, 5, 3, 5, 5, 3, 5, 4, 5, 5, 5, 5, 3, 4, 5, 5, 4, 2]\n",
            "    ave = 4.079 var = 0.994\n",
            "    n_of_partners = 2 -> proposed quantity = [4, 3, 2, 2, 1, 3, 2, 4, 4, 1, 5, 3, 2, 1, 2, 4, 3, 4, 2, 4, 3, 2, 5, 1, 4, 1, 3, 3, 2, 3, 5, 3, 5, 1, 3]\n",
            "    ave = 2.857 var = 1.597\n",
            "    n_of_partners = 3 -> proposed quantity = [3, 2, 2, 1, 1, 3, 5, 3, 5, 4, 5, 4, 5, 1, 3, 1, 3, 5, 3, 2, 5, 1, 5, 5, 2, 2, 1, 5, 4, 2, 1, 5, 1, 1, 2]\n",
            "    ave = 2.943 var = 2.526\n",
            "    n_of_partners = 4 -> proposed quantity = [2, 4, 3, 2, 1, 5, 2, 3, 4, 3, 1, 1, 1, 1, 5, 3, 5, 3, 3, 4, 3, 5, 4, 4, 5, 1, 3, 2, 2, 1, 2, 3, 2, 2, 3, 4, 4, 1, 3, 1, 5, 5]\n",
            "    ave = 2.881 var = 1.912\n",
            "    n_of_partners = 5 -> proposed quantity = [2, 2, 1, 3, 4, 5, 4, 2, 4, 4, 1, 1, 2, 2, 4, 5, 5, 5, 2, 3, 2, 5, 1, 2, 2, 4, 1, 1, 4, 1, 3, 1, 1, 2, 3, 4, 4, 3, 5, 5, 3, 2]\n",
            "    ave = 2.857 var = 2.028\n",
            "    n_of_partners = 6 -> proposed quantity = [4, 4, 3, 5, 4, 1, 4, 5, 3, 1, 1, 4, 5, 3, 2, 2, 5, 4, 1, 2, 5, 2, 4, 2, 1, 1, 4, 4, 2, 2, 3, 1, 4, 5, 3, 4]\n",
            "    ave = 3.056 var = 1.997\n",
            "needs = 6\n",
            "    n_of_partners = 1 -> proposed quantity = [4, 6, 5, 4, 4, 5, 5, 3, 5, 4, 6, 6, 6, 2, 2, 6, 3, 6, 5, 6, 5, 5, 6, 4, 6, 4, 4, 6, 6, 5, 6, 6, 5, 4, 4, 4, 3, 3, 6]\n",
            "    ave = 4.744 var = 1.459\n",
            "    n_of_partners = 2 -> proposed quantity = [1, 6, 2, 3, 6, 1, 3, 3, 2, 4, 3, 1, 6, 6, 6, 1, 2, 5, 5, 6, 3, 1, 1, 6, 1, 6, 3, 4, 2, 6, 6, 3]\n",
            "    ave = 3.562 var = 3.931\n",
            "    n_of_partners = 3 -> proposed quantity = [2, 5, 4, 4, 3, 4, 5, 3, 6, 6, 5, 6, 4, 1, 6, 3, 3, 4, 3, 6, 5, 1, 1, 1, 5, 3, 4, 3]\n",
            "    ave = 3.786 var = 2.619\n",
            "    n_of_partners = 4 -> proposed quantity = [6, 2, 6, 2, 3, 4, 3, 4, 5, 6, 1, 5, 6, 3, 1, 5, 4, 6, 6, 4, 2, 5, 2, 2, 2, 3, 3, 2, 3, 5, 3, 5, 2, 4, 5, 6, 3, 6, 1, 2, 6, 5]\n",
            "    ave = 3.786 var = 2.758\n",
            "    n_of_partners = 5 -> proposed quantity = [2, 3, 3, 5, 3, 5, 2, 2, 3, 1, 5, 2, 6, 2, 6, 1, 2, 1, 2, 4, 1, 3, 3, 5, 3, 3, 6, 5, 3, 5, 2, 6, 1, 2, 2, 6, 2, 4, 6, 3, 3, 3]\n",
            "    ave = 3.262 var = 2.637\n",
            "    n_of_partners = 6 -> proposed quantity = [3, 1, 6, 3, 3, 6, 3, 4, 6, 4, 1, 1, 5, 1, 1, 5, 4, 1, 2, 3, 2, 5, 2, 6, 4, 1, 5, 1, 5, 5, 4, 6, 4, 6, 5, 2, 4, 2, 2, 4, 1, 1]\n",
            "    ave = 3.333 var = 3.203\n",
            "needs = 7\n",
            "    n_of_partners = 1 -> proposed quantity = [6, 4, 5, 1, 4, 7, 5, 6, 5, 7, 3, 7, 6, 5, 6, 1, 6, 4, 6, 6, 7, 6, 5, 6, 5, 6, 7, 4, 4, 6, 6, 6, 7]\n",
            "    ave = 5.303 var = 2.343\n",
            "    n_of_partners = 2 -> proposed quantity = [4, 5, 3, 6, 3, 4, 4, 3, 7, 7, 4, 5, 2, 4, 5, 6, 7, 1, 1, 5, 2, 1, 4, 2, 4, 2, 5]\n",
            "    ave = 3.926 var = 3.302\n",
            "    n_of_partners = 3 -> proposed quantity = [1, 1, 5, 7, 4, 6, 7, 4, 3, 3, 4, 4, 1, 1, 3, 5, 7, 5, 6, 2, 5, 4, 4, 7, 6, 5, 2, 2]\n",
            "    ave = 4.071 var = 3.847\n",
            "    n_of_partners = 4 -> proposed quantity = [4, 3, 1, 4, 3, 6, 6, 5, 1, 2, 7, 2, 6, 1, 5, 2, 4, 5, 4, 3, 5, 2, 3, 3, 3, 3, 7, 3, 6, 5, 5, 2, 3, 4, 3, 3, 5, 2, 7, 5, 4, 5]\n",
            "    ave = 3.857 var = 2.76\n",
            "    n_of_partners = 5 -> proposed quantity = [6, 1, 1, 6, 3, 5, 2, 5, 3, 3, 3, 7, 3, 1, 7, 7, 3, 4, 1, 6, 3, 3, 6, 5, 7, 6, 5, 3, 1, 3, 5, 3, 2, 3, 3, 3, 5, 3, 3, 1, 3, 7]\n",
            "    ave = 3.81 var = 3.621\n",
            "    n_of_partners = 6 -> proposed quantity = [5, 1, 2, 3, 3, 6, 6, 1, 5, 4, 7, 5, 2, 3, 7, 4, 5, 2, 3, 1, 2, 1, 5, 7, 1, 6, 4, 1, 5, 2, 2, 3, 4, 2, 6, 1, 1, 2, 6, 1, 1, 1]\n",
            "    ave = 3.31 var = 4.121\n",
            "needs = 8\n",
            "    n_of_partners = 1 -> proposed quantity = [7, 8, 3, 4, 6, 8, 7, 7, 7, 5, 4, 8, 8, 8, 3, 8, 8, 8, 5, 7, 6, 8, 6, 5, 7, 8]\n",
            "    ave = 6.5 var = 2.74\n",
            "    n_of_partners = 2 -> proposed quantity = [4, 8, 3, 8, 6, 1, 7, 3, 8, 3, 1, 8, 1, 2, 7, 4, 1, 6, 5, 3, 5, 5]\n",
            "    ave = 4.5 var = 6.262\n",
            "    n_of_partners = 3 -> proposed quantity = [7, 8, 1, 6, 4, 7, 2, 4, 1, 2, 5, 8, 4, 8, 3, 6, 7, 4, 2, 8, 5, 3, 4, 4, 7, 5]\n",
            "    ave = 4.808 var = 5.042\n",
            "    n_of_partners = 4 -> proposed quantity = [3, 7, 2, 7, 6, 8, 5, 3, 6, 4, 2, 6, 8, 5, 7, 6, 5, 2, 4, 8, 8, 4, 7, 3, 8, 5, 7, 6, 1, 6, 4, 4, 2, 2, 2, 5, 2, 7, 4, 4, 5, 6]\n",
            "    ave = 4.905 var = 4.235\n",
            "    n_of_partners = 5 -> proposed quantity = [7, 1, 5, 7, 5, 7, 3, 7, 5, 6, 3, 7, 1, 8, 4, 3, 6, 5, 6, 6, 8, 1, 8, 1, 5, 6, 4, 2, 2, 3, 4, 4, 6, 4, 2, 3, 6, 2, 2, 6, 7, 1]\n",
            "    ave = 4.5 var = 4.841\n",
            "    n_of_partners = 6 -> proposed quantity = [8, 6, 4, 8, 2, 3, 7, 4, 2, 2, 7, 2, 1, 4, 6, 2, 2, 1, 4, 7, 8, 8, 2, 4, 2, 4, 7, 2, 4, 5, 3, 8, 1, 4, 3, 1, 2, 3, 8, 1, 7, 6]\n",
            "    ave = 4.167 var = 5.898\n",
            "needs = 9\n",
            "    n_of_partners = 1 -> proposed quantity = [7, 6, 4, 4, 1, 6, 4, 5, 5, 9, 8, 6, 2, 4, 3, 6, 9, 9, 8, 8, 4, 5, 7, 4, 9]\n",
            "    ave = 5.72 var = 5.21\n",
            "    n_of_partners = 2 -> proposed quantity = [5, 4, 6, 6, 8, 7, 8, 4, 3, 7, 8, 7, 6, 5, 2, 8, 2, 9, 4, 1, 8, 7]\n",
            "    ave = 5.682 var = 5.275\n",
            "    n_of_partners = 3 -> proposed quantity = [2, 7, 4, 8, 4, 6, 2, 3, 8, 6, 5, 4, 5, 4, 8, 9, 8, 7, 6, 4, 9, 9, 3]\n",
            "    ave = 5.696 var = 5.221\n",
            "    n_of_partners = 4 -> proposed quantity = [4, 5, 7, 4, 2, 1, 4, 4, 3, 3, 8, 4, 2, 1, 1, 4, 5, 3, 6, 9, 3, 1, 4, 6, 7, 9, 8, 3, 9, 5, 3, 4, 6, 2, 5, 6, 3, 4, 6, 2, 3, 9]\n",
            "    ave = 4.476 var = 5.475\n",
            "    n_of_partners = 5 -> proposed quantity = [2, 7, 4, 8, 9, 9, 6, 6, 3, 1, 6, 4, 3, 4, 4, 2, 8, 3, 9, 8, 2, 4, 6, 3, 5, 9, 4, 3, 4, 3, 3, 5, 1, 9, 3, 9, 5, 8, 3, 2, 9, 7]\n",
            "    ave = 5.071 var = 6.605\n",
            "    n_of_partners = 6 -> proposed quantity = [4, 5, 9, 9, 4, 8, 5, 9, 7, 1, 6, 2, 4, 8, 7, 7, 3, 7, 8, 5, 1, 8, 6, 6, 7, 9, 2, 8, 8, 4, 2, 9, 5, 4, 3, 7, 4, 2, 9, 4, 4, 7]\n",
            "    ave = 5.643 var = 6.04\n",
            "needs = 10\n",
            "    n_of_partners = 1 -> proposed quantity = [10, 9, 3, 5, 3, 3, 2, 10, 2, 1, 1, 3, 7, 4, 8, 2, 7, 4, 8, 8]\n",
            "    ave = 5.0 var = 9.368\n",
            "    n_of_partners = 2 -> proposed quantity = [5, 5, 7, 9, 4, 5, 6, 5, 1, 1, 9, 3, 10, 9, 1, 5, 5, 9, 5, 5, 6]\n",
            "    ave = 5.476 var = 7.162\n",
            "    n_of_partners = 3 -> proposed quantity = [5, 1, 8, 5, 4, 7, 7, 8, 10, 2, 8, 7, 3, 10, 4, 4, 10, 8, 7, 10, 10]\n",
            "    ave = 6.571 var = 7.857\n",
            "    n_of_partners = 4 -> proposed quantity = [3, 10, 6, 10, 6, 8, 10, 5, 6, 10, 2, 6, 10, 8, 8, 6, 7, 8, 8, 8, 10, 10, 6, 9, 4, 10, 6, 6, 9, 9, 10, 9, 5, 6, 10, 4, 10, 5, 6, 4, 3, 10]\n",
            "    ave = 7.286 var = 5.672\n",
            "    n_of_partners = 5 -> proposed quantity = [3, 2, 3, 10, 9, 4, 10, 8, 4, 6, 9, 4, 6, 1, 3, 5, 8, 5, 8, 6, 8, 9, 9, 8, 7, 9, 4, 9, 9, 9, 6, 10, 10, 10, 7, 3, 2, 4, 2, 3, 3, 8]\n",
            "    ave = 6.262 var = 7.905\n",
            "    n_of_partners = 6 -> proposed quantity = [10, 7, 4, 10, 10, 7, 6, 5, 1, 6, 10, 1, 7, 9, 7, 10, 5, 10, 4, 3, 5, 8, 4, 8, 5, 6, 3, 7, 9, 5, 2, 3, 10, 3, 10, 2, 2, 9, 10, 6, 2, 1]\n",
            "    ave = 6.0 var = 9.171\n",
            " \n",
            "medium quantity\n",
            "          m=1  m=2  m=3  m=4  m=5  m=6\n",
            "needs=1     1    1    1    1    1    1\n",
            "needs=2     2    1    2    1    1    1\n",
            "needs=3     3    2    2    2    2    2\n",
            "needs=4     4    3    2    3    2    2\n",
            "needs=5     4    3    3    3    3    3\n",
            "needs=6     5    3    4    4    3    4\n",
            "needs=7     6    4    4    4    3    3\n",
            "needs=8     7    4    4    5    5    4\n",
            "needs=9     6    6    6    4    4    6\n",
            "needs=10    4    5    7    8    6    6\n",
            " \n",
            "ave quantity\n",
            "          m=1  m=2  m=3  m=4  m=5  m=6\n",
            "needs=1     1    1    1    1    1    1\n",
            "needs=2     2    1    2    1    1    1\n",
            "needs=3     3    2    2    2    2    2\n",
            "needs=4     3    3    2    3    2    2\n",
            "needs=5     4    3    3    3    3    3\n",
            "needs=6     5    4    4    4    3    3\n",
            "needs=7     5    4    4    4    4    3\n",
            "needs=8     6    4    5    5    4    4\n",
            "needs=9     6    6    6    4    5    6\n",
            "needs=10    5    5    7    7    6    6\n",
            " \n",
            "compare with math.ceil(needs/2)\n",
            "          m=1  m=2  m=3  m=4  m=5  m=6\n",
            "needs=1     0    0    0    0    0    0\n",
            "needs=2     1    0    1    0    0    0\n",
            "needs=3     1    0    0    0    0    0\n",
            "needs=4     1    1    0    1    0    0\n",
            "needs=5     1    0    0    0    0    0\n",
            "needs=6     2    1    1    1    0    0\n",
            "needs=7     1    0    0    0    0   -1\n",
            "needs=8     2    0    1    1    0    0\n",
            "needs=9     1    1    1   -1    0    1\n",
            "needs=10    0    0    2    2    1    1\n",
            " \n",
            "compare with -math.ceil(-needs/2)\n",
            "          m=1  m=2  m=3  m=4  m=5  m=6\n",
            "needs=1     1    1    1    1    1    1\n",
            "needs=2     1    0    1    0    0    0\n",
            "needs=3     2    1    1    1    1    1\n",
            "needs=4     1    1    0    1    0    0\n",
            "needs=5     2    1    1    1    1    1\n",
            "needs=6     2    1    1    1    0    0\n",
            "needs=7     2    1    1    1    1    0\n",
            "needs=8     2    0    1    1    0    0\n",
            "needs=9     2    2    2    0    1    2\n",
            "needs=10    0    0    2    2    1    1\n"
          ]
        }
      ]
    },
    {
      "cell_type": "markdown",
      "source": [
        "####analysis unit_price"
      ],
      "metadata": {
        "id": "Zcr_q3pjq_k2"
      }
    },
    {
      "cell_type": "markdown",
      "source": [
        "#####needs -> unit_price\n",
        "maybe mistake"
      ],
      "metadata": {
        "id": "zBm8Cy2WXHdS"
      }
    },
    {
      "cell_type": "code",
      "source": [
        "needs_unit_price_value_list = []\n",
        "for needs in range(13):\n",
        "    needs_unit_price_value_list.append([needs - 2, 0])\n",
        "#print(level_unit_price_value_list)\n",
        "\n",
        "for row in range(6006):\n",
        "    if np.any(Q_value_matrix[row] > 0):\n",
        "        needs = calculate_needs_for_Q_value_matrix(row)\n",
        "        act_value = get_random_max_col_index(Q_value_matrix, row)\n",
        "        if act_value < len(choice_of_quantity):\n",
        "            needs_unit_price_value_list[needs][0] += 1\n",
        "        else:\n",
        "            needs_unit_price_value_list[needs][1] += 1\n",
        "\n",
        "for needs in range(13):\n",
        "    sum_bulissh_value = needs_unit_price_value_list[needs][1]\n",
        "    sum_bearish_value = needs_unit_price_value_list[needs][0]\n",
        "    if sum_bulissh_value > sum_bearish_value:\n",
        "        result = \"O\"\n",
        "    else:\n",
        "        result = \"X\"\n",
        "    print(\"needs =\", needs - 2, \"-> bullish unit_price =\", sum_bulissh_value, \"bearish unit_price =\", sum_bearish_value, result)"
      ],
      "metadata": {
        "colab": {
          "base_uri": "https://localhost:8080/"
        },
        "id": "K4IaFnnkXOGQ",
        "outputId": "615fccf8-6986-49be-c019-f1a6b7b1b823"
      },
      "execution_count": null,
      "outputs": [
        {
          "output_type": "stream",
          "name": "stdout",
          "text": [
            "needs = -2 -> bullish unit_price = 0 bearish unit_price = -2 O\n",
            "needs = -1 -> bullish unit_price = 0 bearish unit_price = -1 O\n",
            "needs = 0 -> bullish unit_price = 0 bearish unit_price = 0 X\n",
            "needs = 1 -> bullish unit_price = 137 bearish unit_price = 62 O\n",
            "needs = 2 -> bullish unit_price = 92 bearish unit_price = 108 X\n",
            "needs = 3 -> bullish unit_price = 102 bearish unit_price = 112 X\n",
            "needs = 4 -> bullish unit_price = 115 bearish unit_price = 109 O\n",
            "needs = 5 -> bullish unit_price = 123 bearish unit_price = 110 O\n",
            "needs = 6 -> bullish unit_price = 124 bearish unit_price = 107 O\n",
            "needs = 7 -> bullish unit_price = 119 bearish unit_price = 102 O\n",
            "needs = 8 -> bullish unit_price = 119 bearish unit_price = 89 O\n",
            "needs = 9 -> bullish unit_price = 114 bearish unit_price = 91 O\n",
            "needs = 10 -> bullish unit_price = 124 bearish unit_price = 74 O\n"
          ]
        }
      ]
    },
    {
      "cell_type": "markdown",
      "source": [
        "#####level -> unit_price"
      ],
      "metadata": {
        "id": "lcNC5oQ2dQor"
      }
    },
    {
      "cell_type": "code",
      "source": [
        "level_unit_price_value_list = []\n",
        "for level in range(2):\n",
        "    level_unit_price_value_list.append([0, 0])\n",
        "#print(level_unit_price_value_list)\n",
        "\n",
        "for row in range(6006):\n",
        "    if np.any(Q_value_matrix[row] > 0):\n",
        "        level = calculate_level_for_Q_value_matrix(row)\n",
        "        if False:\n",
        "            print(\"level = \", level)\n",
        "            if level > 1:\n",
        "                print(\"row =\", row)\n",
        "        act_value = get_random_max_col_index(Q_value_matrix, row)\n",
        "        if act_value < len(choice_of_quantity):\n",
        "            level_unit_price_value_list[level][0] += 1\n",
        "        else:\n",
        "            level_unit_price_value_list[level][1] += 1\n",
        "\n",
        "for level in range(2):\n",
        "    #print(\"level =\", level, \"-> unit_price_value_list =\", unit_price_value_list)\n",
        "    print(\"level =\", level, \"-> bullish unit_price =\", level_unit_price_value_list[level][1], \"bearish unit_price =\", level_unit_price_value_list[level][0])"
      ],
      "metadata": {
        "colab": {
          "base_uri": "https://localhost:8080/"
        },
        "id": "KLFSM5epdVHj",
        "outputId": "9a105b4a-a9a0-4c35-eea8-bcf92af7497d"
      },
      "execution_count": null,
      "outputs": [
        {
          "output_type": "stream",
          "name": "stdout",
          "text": [
            "level = 0 -> bullish unit_price = 489 bearish unit_price = 400\n",
            "level = 1 -> bullish unit_price = 680 bearish unit_price = 509\n"
          ]
        }
      ]
    },
    {
      "cell_type": "markdown",
      "source": [
        "#####step -> unit_price"
      ],
      "metadata": {
        "id": "3aa80TT12gxW"
      }
    },
    {
      "cell_type": "code",
      "source": [
        "step_unit_price_value_list = []\n",
        "for step in range(21):\n",
        "    step_unit_price_value_list.append([step, 0])\n",
        "#print(level_unit_price_value_list)\n",
        "\n",
        "for row in range(6006):\n",
        "    if np.any(Q_value_matrix[row] > 0):\n",
        "        step = calculate_step_for_Q_value_matrix(row)\n",
        "        act_value = get_random_max_col_index(Q_value_matrix, row)\n",
        "        if act_value < len(choice_of_quantity):\n",
        "            step_unit_price_value_list[step][0] += 1\n",
        "        else:\n",
        "            step_unit_price_value_list[step][1] += 1\n",
        "\n",
        "for step in range(21):\n",
        "    print(\"step =\", step, \"-> bullish unit_price =\", step_unit_price_value_list[step][1], \"bearish unit_price =\", step_unit_price_value_list[step][0])"
      ],
      "metadata": {
        "colab": {
          "base_uri": "https://localhost:8080/"
        },
        "id": "LC-g-xxE2kBf",
        "outputId": "98d209f1-4e54-41b4-ca2a-6b7fd9295f92"
      },
      "execution_count": null,
      "outputs": [
        {
          "output_type": "stream",
          "name": "stdout",
          "text": [
            "step = 0 -> bullish unit_price = 52 bearish unit_price = 51\n",
            "step = 1 -> bullish unit_price = 50 bearish unit_price = 48\n",
            "step = 2 -> bullish unit_price = 59 bearish unit_price = 45\n",
            "step = 3 -> bullish unit_price = 52 bearish unit_price = 47\n",
            "step = 4 -> bullish unit_price = 49 bearish unit_price = 56\n",
            "step = 5 -> bullish unit_price = 60 bearish unit_price = 43\n",
            "step = 6 -> bullish unit_price = 45 bearish unit_price = 57\n",
            "step = 7 -> bullish unit_price = 51 bearish unit_price = 53\n",
            "step = 8 -> bullish unit_price = 55 bearish unit_price = 48\n",
            "step = 9 -> bullish unit_price = 63 bearish unit_price = 46\n",
            "step = 10 -> bullish unit_price = 53 bearish unit_price = 52\n",
            "step = 11 -> bullish unit_price = 55 bearish unit_price = 53\n",
            "step = 12 -> bullish unit_price = 51 bearish unit_price = 61\n",
            "step = 13 -> bullish unit_price = 54 bearish unit_price = 58\n",
            "step = 14 -> bullish unit_price = 53 bearish unit_price = 59\n",
            "step = 15 -> bullish unit_price = 60 bearish unit_price = 54\n",
            "step = 16 -> bullish unit_price = 48 bearish unit_price = 63\n",
            "step = 17 -> bullish unit_price = 60 bearish unit_price = 57\n",
            "step = 18 -> bullish unit_price = 50 bearish unit_price = 67\n",
            "step = 19 -> bullish unit_price = 53 bearish unit_price = 62\n",
            "step = 20 -> bullish unit_price = 96 bearish unit_price = 39\n"
          ]
        }
      ]
    },
    {
      "cell_type": "markdown",
      "source": [
        "#####step, level -> unit_price"
      ],
      "metadata": {
        "id": "flF_F3UaGyxg"
      }
    },
    {
      "cell_type": "code",
      "source": [
        "step_level_to_unit_price_list = []\n",
        "for step in range(21):\n",
        "    step_level_to_unit_price_list.append([[0,0], [0,0]])\n",
        "#print(level_unit_price_value_list)\n",
        "\n",
        "for row in range(6006):\n",
        "    if np.any(Q_value_matrix[row] > 0):\n",
        "        step = calculate_step_for_Q_value_matrix(row)\n",
        "        level = calculate_level_for_Q_value_matrix(row)\n",
        "        act_value = get_random_max_col_index(Q_value_matrix, row)\n",
        "        if act_value < len(choice_of_quantity):\n",
        "            step_level_to_unit_price_list[step][level][0] += 1\n",
        "        else:\n",
        "            step_level_to_unit_price_list[step][level][1] += 1\n",
        "\n",
        "for step in range(21):\n",
        "    print(\"step =\", step)\n",
        "    for level in range(2):\n",
        "        bullish_value = step_level_to_unit_price_list[step][level][1]\n",
        "        bearish_value = step_level_to_unit_price_list[step][level][0]\n",
        "        if bullish_value > bearish_value:\n",
        "            result = \"O\"\n",
        "        else:\n",
        "            result = \"X\"\n",
        "        print(\"  level =\", level, \"-> bullish unit_price =\", bullish_value, \"bearish unit_price =\", bearish_value, result)\n",
        "\n",
        "print(\" \")\n",
        "\n",
        "print()\n",
        "\n",
        "\n",
        "print(\" \")\n",
        "#graph\n",
        "step_list = list(range(21))\n",
        "for level in range(2):\n",
        "    bullish_list = []\n",
        "    bearish_list = []\n",
        "    for step in range(21):\n",
        "        bullish_list.append(step_level_to_unit_price_list[step][level][1])\n",
        "        bearish_list.append(step_level_to_unit_price_list[step][level][0])\n",
        "\n",
        "    plt.plot(step_list, bullish_list, label=\"bullish unit_price\")\n",
        "    plt.plot(step_list, bearish_list, label=\"bearish unit_price\")\n",
        "\n",
        "    plt.title(\"best unit price in level\" + str(level))\n",
        "    plt.xlabel(\"steps\")\n",
        "    plt.ylabel(\"number of state which the best action is such\")\n",
        "\n",
        "    plt.xticks(step_list)\n",
        "\n",
        "    plt.legend()\n",
        "\n",
        "    plt.show()\n",
        "\n"
      ],
      "metadata": {
        "colab": {
          "base_uri": "https://localhost:8080/",
          "height": 1000
        },
        "id": "0yigAETOG42D",
        "outputId": "cb0fbbef-f2b1-452e-f6c1-bfd25a663a2c"
      },
      "execution_count": null,
      "outputs": [
        {
          "output_type": "stream",
          "name": "stdout",
          "text": [
            "step = 0\n",
            "  level = 0 -> bullish unit_price = 24 bearish unit_price = 22 O\n",
            "  level = 1 -> bullish unit_price = 28 bearish unit_price = 29 X\n",
            "step = 1\n",
            "  level = 0 -> bullish unit_price = 20 bearish unit_price = 22 X\n",
            "  level = 1 -> bullish unit_price = 30 bearish unit_price = 25 O\n",
            "step = 2\n",
            "  level = 0 -> bullish unit_price = 28 bearish unit_price = 16 O\n",
            "  level = 1 -> bullish unit_price = 31 bearish unit_price = 27 O\n",
            "step = 3\n",
            "  level = 0 -> bullish unit_price = 24 bearish unit_price = 17 O\n",
            "  level = 1 -> bullish unit_price = 28 bearish unit_price = 27 O\n",
            "step = 4\n",
            "  level = 0 -> bullish unit_price = 18 bearish unit_price = 26 X\n",
            "  level = 1 -> bullish unit_price = 31 bearish unit_price = 26 O\n",
            "step = 5\n",
            "  level = 0 -> bullish unit_price = 26 bearish unit_price = 16 O\n",
            "  level = 1 -> bullish unit_price = 34 bearish unit_price = 22 O\n",
            "step = 6\n",
            "  level = 0 -> bullish unit_price = 19 bearish unit_price = 21 X\n",
            "  level = 1 -> bullish unit_price = 26 bearish unit_price = 30 X\n",
            "step = 7\n",
            "  level = 0 -> bullish unit_price = 23 bearish unit_price = 17 O\n",
            "  level = 1 -> bullish unit_price = 28 bearish unit_price = 29 X\n",
            "step = 8\n",
            "  level = 0 -> bullish unit_price = 18 bearish unit_price = 21 X\n",
            "  level = 1 -> bullish unit_price = 37 bearish unit_price = 19 O\n",
            "step = 9\n",
            "  level = 0 -> bullish unit_price = 27 bearish unit_price = 15 O\n",
            "  level = 1 -> bullish unit_price = 36 bearish unit_price = 22 O\n",
            "step = 10\n",
            "  level = 0 -> bullish unit_price = 22 bearish unit_price = 18 O\n",
            "  level = 1 -> bullish unit_price = 31 bearish unit_price = 24 O\n",
            "step = 11\n",
            "  level = 0 -> bullish unit_price = 23 bearish unit_price = 18 O\n",
            "  level = 1 -> bullish unit_price = 32 bearish unit_price = 24 O\n",
            "step = 12\n",
            "  level = 0 -> bullish unit_price = 24 bearish unit_price = 18 O\n",
            "  level = 1 -> bullish unit_price = 27 bearish unit_price = 31 X\n",
            "step = 13\n",
            "  level = 0 -> bullish unit_price = 21 bearish unit_price = 22 X\n",
            "  level = 1 -> bullish unit_price = 33 bearish unit_price = 23 O\n",
            "step = 14\n",
            "  level = 0 -> bullish unit_price = 21 bearish unit_price = 20 O\n",
            "  level = 1 -> bullish unit_price = 32 bearish unit_price = 25 O\n",
            "step = 15\n",
            "  level = 0 -> bullish unit_price = 26 bearish unit_price = 16 O\n",
            "  level = 1 -> bullish unit_price = 34 bearish unit_price = 23 O\n",
            "step = 16\n",
            "  level = 0 -> bullish unit_price = 16 bearish unit_price = 23 X\n",
            "  level = 1 -> bullish unit_price = 32 bearish unit_price = 24 O\n",
            "step = 17\n",
            "  level = 0 -> bullish unit_price = 24 bearish unit_price = 19 O\n",
            "  level = 1 -> bullish unit_price = 36 bearish unit_price = 21 O\n",
            "step = 18\n",
            "  level = 0 -> bullish unit_price = 23 bearish unit_price = 20 O\n",
            "  level = 1 -> bullish unit_price = 27 bearish unit_price = 29 X\n",
            "step = 19\n",
            "  level = 0 -> bullish unit_price = 19 bearish unit_price = 21 X\n",
            "  level = 1 -> bullish unit_price = 34 bearish unit_price = 22 O\n",
            "step = 20\n",
            "  level = 0 -> bullish unit_price = 43 bearish unit_price = 12 O\n",
            "  level = 1 -> bullish unit_price = 53 bearish unit_price = 7 O\n",
            " \n"
          ]
        },
        {
          "output_type": "display_data",
          "data": {
            "text/plain": [
              "<Figure size 640x480 with 1 Axes>"
            ],
            "image/png": "[encoded data removed]"
          },
          "metadata": {}
        },
        {
          "output_type": "display_data",
          "data": {
            "text/plain": [
              "<Figure size 640x480 with 1 Axes>"
            ],
            "image/png": "[encoded data removed]"
          },
          "metadata": {}
        }
      ]
    },
    {
      "cell_type": "markdown",
      "source": [
        "####others"
      ],
      "metadata": {
        "id": "G5Yn41VxrSal"
      }
    },
    {
      "cell_type": "markdown",
      "source": [
        "#####check learning rate?"
      ],
      "metadata": {
        "id": "_gznugrEPOUy"
      }
    },
    {
      "cell_type": "code",
      "source": [
        "learning_rate_list = []\n",
        "for row in range(6006):\n",
        "    if np.any(Q_value_matrix[row, :] > 0):\n",
        "        count = np.count_nonzero(Q_value_matrix[row, :])\n",
        "        learning_rate_list.append(count / (len(choice_of_quantity) * 2))\n",
        "average = sum(learning_rate_list) / len(learning_rate_list)\n",
        "print(\"The average is: \", average)"
      ],
      "metadata": {
        "colab": {
          "base_uri": "https://localhost:8080/"
        },
        "id": "iLOq0vJRPSG6",
        "outputId": "5a046730-2b07-4d52-f25b-092f8ca05616"
      },
      "execution_count": null,
      "outputs": [
        {
          "output_type": "stream",
          "name": "stdout",
          "text": [
            "The average is:  0.8370307988450468\n"
          ]
        }
      ]
    },
    {
      "cell_type": "markdown",
      "source": [
        "#####check n_of_partners"
      ],
      "metadata": {
        "id": "0NvEUXxqO_nx"
      }
    },
    {
      "cell_type": "code",
      "source": [
        "n_of_partners_list = [0] * 11\n",
        "for row in range(6006):\n",
        "    if np.any(Q_value_matrix[row, :] > 0):\n",
        "        n_of_partners = calculate_n_of_partners_for_Q_value_matrix(row)\n",
        "        n_of_partners_list[n_of_partners] += 1\n",
        "print(n_of_partners_list)\n",
        "\n"
      ],
      "metadata": {
        "colab": {
          "base_uri": "https://localhost:8080/"
        },
        "id": "5vwByBMtMx6B",
        "outputId": "48c757e1-0dd8-466b-81ad-6bdad70cd8ae"
      },
      "execution_count": null,
      "outputs": [
        {
          "output_type": "stream",
          "name": "stdout",
          "text": [
            "[347, 321, 328, 411, 376, 295, 0, 0, 0, 0, 0]\n"
          ]
        }
      ]
    },
    {
      "cell_type": "markdown",
      "source": [
        "#####check needs"
      ],
      "metadata": {
        "id": "_hW7llB0riTW"
      }
    },
    {
      "cell_type": "code",
      "source": [
        "needs_list = []\n",
        "for i in range(13):\n",
        "    needs_list.append([i-2, 0])\n",
        "for row in range(6006):\n",
        "    if np.any(Q_value_matrix[row, :] > 0):\n",
        "        needs_value = calculate_needs_for_Q_value_matrix(row)\n",
        "        needs_list[needs_value][1] += 1\n",
        "        if needs_value <= 2:\n",
        "            print(\"row = \", row)\n",
        "print(needs_list)\n",
        "print(\" \")"
      ],
      "metadata": {
        "colab": {
          "base_uri": "https://localhost:8080/"
        },
        "id": "6byS9n0srlkM",
        "outputId": "8b466a67-dfc3-4296-9f18-2c19fa152984"
      },
      "execution_count": null,
      "outputs": [
        {
          "output_type": "stream",
          "name": "stdout",
          "text": [
            "[[-2, 0], [-1, 0], [0, 0], [1, 198], [2, 198], [3, 211], [4, 220], [5, 228], [6, 225], [7, 214], [8, 200], [9, 196], [10, 188]]\n",
            " \n"
          ]
        }
      ]
    },
    {
      "cell_type": "markdown",
      "source": [
        "######more research"
      ],
      "metadata": {
        "id": "sEBoNy-sszZV"
      }
    },
    {
      "cell_type": "code",
      "source": [
        "for row in range(6006):\n",
        "    if np.any(Q_value_matrix[row, :] > 0):\n",
        "        needs_value = calculate_needs_for_Q_value_matrix(row)\n",
        "        if needs_value <= 2:\n",
        "            step = calculate_step_for_Q_value_matrix(row)\n",
        "            level = calculate_level_for_Q_value_matrix(row)\n",
        "            n_of_partners = calculate_n_of_partners_for_Q_value_matrix(row)\n",
        "            print(\"step, needs, level, n_of_partners = \", step, needs_value - 2, level, n_of_partners+1)\n",
        "            print(Q_value_matrix[row])"
      ],
      "metadata": {
        "id": "XPGomwyos3LD"
      },
      "execution_count": null,
      "outputs": []
    },
    {
      "cell_type": "markdown",
      "source": [
        "#####check step"
      ],
      "metadata": {
        "id": "qpfokDBy0y61"
      }
    },
    {
      "cell_type": "code",
      "source": [
        "step_list = []\n",
        "for i in range(21):\n",
        "    step_list.append([i, 0])\n",
        "for row in range(6006):\n",
        "    if np.any(Q_value_matrix[row, :] > 0):\n",
        "        step = calculate_step_for_Q_value_matrix(row)\n",
        "        #print(\"step = \", step)\n",
        "        step_list[step][1] += 1\n",
        "print(step_list)\n",
        "print(\" \")"
      ],
      "metadata": {
        "colab": {
          "base_uri": "https://localhost:8080/"
        },
        "id": "b9IGj5U808SU",
        "outputId": "7cb64151-16f9-43ed-9310-0213b904b49d"
      },
      "execution_count": null,
      "outputs": [
        {
          "output_type": "stream",
          "name": "stdout",
          "text": [
            "[[0, 103], [1, 97], [2, 102], [3, 96], [4, 101], [5, 98], [6, 96], [7, 97], [8, 95], [9, 100], [10, 95], [11, 97], [12, 100], [13, 99], [14, 98], [15, 99], [16, 95], [17, 100], [18, 99], [19, 96], [20, 115]]\n",
            " \n"
          ]
        }
      ]
    },
    {
      "cell_type": "markdown",
      "source": [
        "###don't treat unit_price"
      ],
      "metadata": {
        "id": "8MWgYl0er55V"
      }
    },
    {
      "cell_type": "markdown",
      "source": [
        "##analysis tscores"
      ],
      "metadata": {
        "id": "_vYy2cdzvaKu"
      }
    },
    {
      "cell_type": "markdown",
      "source": [],
      "metadata": {
        "id": "Ww8fTbJQvqIU"
      }
    },
    {
      "cell_type": "code",
      "source": [
        "#step = 19\n",
        "TestAgent0730      = [1.16485, 1.06953, 1.07229, 1.10911, 1.0373, 1.10144, 1.03407, 1.10021, 1.10409, 1.06921]\n",
        "AgentVSCforOneShot = [1.17118, 1.10149, 1.11673, 1.14117, 1.09822, 1.13407, 1.07162, 1.12167, 1.13282, 1.09787]\n",
        "ForestAgent        = [1.14346, 0.902253, 1.08218, 1.06239, 0.980328, 1.07605, 1.02135, 1.11633, 1.15452, 1.08577]\n",
        "PHLA               = [1.09476, 0.877981, 1.06005, 1.01449, 0.970456, 1.03855, 1.02007, 1.09725, 1.12755, 1.06844]\n",
        "AgentSAS           = [1.09971, 0.878614, 1.05762, 1.01999, 0.966853, 1.04377, 1.01879, 1.09304, 1.12408, 1.06029]\n",
        "NegoAgent          = [1.0696, 1.01394, 1.03724, 1.04863, 0.962362, 1.0392, 1.01334, 0.983379, 1.05121, 1.06473]\n",
        "Shochan            = [1.14989, 1.03896, 1.10068, 1.0815, 1.00818, 1.12196, 0.965705, 1.09729, 1.14573, 1.06656]"
      ],
      "metadata": {
        "id": "XmTlefbdvrYU"
      },
      "execution_count": null,
      "outputs": []
    },
    {
      "cell_type": "code",
      "source": [
        "#step = 18\n",
        "TestAgent0730      = [1.03284, 1.10495, 1.05004, 1.11861, 1.15096, 1.09223, 1.058, 1.09496, 1.15153, 1.08378]\n",
        "AgentVSCforOneShot = [1.04924, 1.10691, 1.10376, 1.14334, 1.13529, 1.11498, 1.12332, 1.1426, 1.17314, 1.09468]\n",
        "ForestAgent        = [1.00898, 1.06787, 1.0114, 1.09338, 1.11924, 1.08523, 1.04972, 1.0947, 1.1562, 1.0658]\n",
        "PHLA               = [1.00639, 1.04825, 1.0042, 1.0923, 1.11615, 1.07205, 0.98963, 1.09215, 1.1187, 1.056]\n",
        "AgentSAS           = [1.00482, 1.04888, 1.00518, 1.0872, 1.11114, 1.06817, 0.985545, 1.09789, 1.12183, 1.05554]\n",
        "NegoAgent          = [1.0157, 0.979867, 1.05956, 1.00095, 1.07997, 1.04985, 1.02275, 1.036, 1.00531, 0.988277]\n",
        "Shochan            = [0.989669, 1.06978, 1.05351, 1.11563, 1.07946, 1.08902, 1.0796, 1.10589, 1.17617, 1.08791]"
      ],
      "metadata": {
        "id": "zS8xbOwfQBvG"
      },
      "execution_count": null,
      "outputs": []
    },
    {
      "cell_type": "code",
      "source": [
        "print(\"average of tscores TestAgent0730      =\", sum(TestAgent0730)/len(TestAgent0730))\n",
        "print(\"average of tscores AgentVSCforOneShot =\", sum(AgentVSCforOneShot)/len(AgentVSCforOneShot))\n",
        "print(\"average of tscores ForestAgent        =\", sum(ForestAgent)/len(ForestAgent))\n",
        "print(\"average of tscores PHLA               =\", sum(PHLA)/len(PHLA))\n",
        "print(\"average of tscores AgentSAS           =\", sum(AgentSAS)/len(AgentSAS))\n",
        "print(\"average of tscores NegoAgent          =\", sum(NegoAgent)/len(NegoAgent))\n",
        "print(\"average of tscores Shochan            =\", sum(Shochan)/len(Shochan))"
      ],
      "metadata": {
        "colab": {
          "base_uri": "https://localhost:8080/"
        },
        "id": "8o53mBwxaNAh",
        "outputId": "2f30b2dd-71ba-461f-a339-4dc1a3443fed"
      },
      "execution_count": null,
      "outputs": [
        {
          "output_type": "stream",
          "name": "stdout",
          "text": [
            "average of tscores TestAgent0730      = 1.08621\n",
            "average of tscores AgentVSCforOneShot = 1.1186840000000002\n",
            "average of tscores ForestAgent        = 1.0624631\n",
            "average of tscores PHLA               = 1.0369597000000002\n",
            "average of tscores AgentSAS           = 1.0362756999999998\n",
            "average of tscores NegoAgent          = 1.0283631\n",
            "average of tscores Shochan            = 1.0776454999999998\n"
          ]
        }
      ]
    },
    {
      "cell_type": "code",
      "source": [
        "print(\"average of tscores TestAgent0730      =\", sum(TestAgent0730)/len(TestAgent0730))\n",
        "print(\"average of tscores AgentVSCforOneShot =\", sum(AgentVSCforOneShot)/len(AgentVSCforOneShot))\n",
        "print(\"average of tscores ForestAgent        =\", sum(ForestAgent)/len(ForestAgent))\n",
        "print(\"average of tscores PHLA               =\", sum(PHLA)/len(PHLA))\n",
        "print(\"average of tscores AgentSAS           =\", sum(AgentSAS)/len(AgentSAS))\n",
        "print(\"average of tscores NegoAgent          =\", sum(NegoAgent)/len(NegoAgent))\n",
        "print(\"average of tscores Shochan            =\", sum(Shochan)/len(Shochan))"
      ],
      "metadata": {
        "colab": {
          "base_uri": "https://localhost:8080/"
        },
        "id": "NtLlxKbFZP3n",
        "outputId": "b79e8bb5-2b1b-4e7a-b92f-c993e8eff0d8"
      },
      "execution_count": null,
      "outputs": [
        {
          "output_type": "stream",
          "name": "stdout",
          "text": [
            "average of tscores TestAgent0730      = 1.0937899999999998\n",
            "average of tscores AgentVSCforOneShot = 1.118726\n",
            "average of tscores ForestAgent        = 1.0752519999999999\n",
            "average of tscores PHLA               = 1.059582\n",
            "average of tscores AgentSAS           = 1.0586195\n",
            "average of tscores NegoAgent          = 1.0238234\n",
            "average of tscores Shochan            = 1.0846639\n"
          ]
        }
      ]
    },
    {
      "cell_type": "code",
      "source": [
        "#graph\n",
        "try_list = list(range(10))\n",
        "\n",
        "\n",
        "plt.plot(try_list, TestAgent0730, label=\"TestAgent0730\")\n",
        "plt.plot(try_list, AgentVSCforOneShot, label=\"AgentVSCforOneShot\")\n",
        "plt.plot(try_list, ForestAgent, label=\"ForestAgent\")\n",
        "plt.plot(try_list, PHLA, label=\"PHLA\")\n",
        "plt.plot(try_list, AgentSAS, label=\"AgentSAS\")\n",
        "plt.plot(try_list, NegoAgent, label=\"NegoAgent\")\n",
        "plt.plot(try_list, Shochan, label=\"Shochan\")\n",
        "\n",
        "plt.title(\"tscores\")\n",
        "plt.xlabel(\"try\")\n",
        "plt.ylabel(\"tscore\")\n",
        "\n",
        "plt.xticks(try_list)\n",
        "\n",
        "plt.legend()\n",
        "\n",
        "plt.show()"
      ],
      "metadata": {
        "colab": {
          "base_uri": "https://localhost:8080/",
          "height": 471
        },
        "id": "1PcKnnbGvoCM",
        "outputId": "edde2b40-ab66-4ec5-e840-58f4035935d2"
      },
      "execution_count": null,
      "outputs": [
        {
          "output_type": "display_data",
          "data": {
            "text/plain": [
              "<Figure size 640x480 with 1 Axes>"
            ],
            "image/png": "[encoded data removed]"
          },
          "metadata": {}
        }
      ]
    },
    {
      "cell_type": "code",
      "source": [
        "# create a dataframe from the lists\n",
        "data = pd.DataFrame({\n",
        "    \"TestAgent0730\": TestAgent0730,\n",
        "    \"AgentVSCforOneShot\": AgentVSCforOneShot,\n",
        "    \"ForestAgent\": ForestAgent,\n",
        "    \"PHLA\": PHLA,\n",
        "    \"AgentSAS\": AgentSAS,\n",
        "    \"NegoAgent\": NegoAgent,\n",
        "    \"Shochan\": Shochan\n",
        "})\n",
        "\n",
        "# \"melt\" the dataset to convert it into long form\n",
        "data_melted = data.melt(var_name='Agent', value_name='tscores')\n",
        "\n",
        "# create the violinplot\n",
        "plt.figure(figsize=(10,6))\n",
        "sns.violinplot(x='Agent', y='tscores', data=data_melted)\n",
        "plt.title(\"Violin plot\")\n",
        "\n",
        "# rotate x-axis labels for better visibility\n",
        "plt.xticks(rotation=45)\n",
        "\n",
        "plt.show()"
      ],
      "metadata": {
        "colab": {
          "base_uri": "https://localhost:8080/",
          "height": 664
        },
        "id": "VwjBuhV6OV79",
        "outputId": "14ad502f-1771-4ce9-94b8-2574e87913e0"
      },
      "execution_count": null,
      "outputs": [
        {
          "output_type": "display_data",
          "data": {
            "text/plain": [
              "<Figure size 1000x600 with 1 Axes>"
            ],
            "image/png": "[encoded data removed]"
          },
          "metadata": {}
        }
      ]
    },
    {
      "cell_type": "code",
      "source": [
        "def analysis_statistics(data):\n",
        "    # データの例\n",
        "    #data = [1, 2, 3, 4, 5, 6, 7, 8, 9, 10]\n",
        "\n",
        "    # 統計量を計算\n",
        "    mean = np.mean(data)\n",
        "    min_val = np.min(data)\n",
        "    q1 = np.percentile(data, 25)\n",
        "    median = np.median(data)\n",
        "    q3 = np.percentile(data, 75)\n",
        "    max_val = np.max(data)\n",
        "\n",
        "    # 結果を出力\n",
        "    #print(\"name =\", str(data))\n",
        "    print(f\"Mean: {mean}\")\n",
        "    print(f\"Min: {min_val}\")\n",
        "    print(f\"First quartile: {q1}\")\n",
        "    print(f\"Median (Second quartile): {median}\")\n",
        "    print(f\"Third quartile: {q3}\")\n",
        "    print(f\"Max: {max_val}\")\n",
        "    print(\" \")\n",
        "\n",
        "print(\"TestAgent0730\")\n",
        "analysis_statistics(TestAgent0730)\n",
        "print(\"AgentVSCforOneShot\")\n",
        "analysis_statistics(AgentVSCforOneShot)\n",
        "print(\"ForestAgent\")\n",
        "analysis_statistics(ForestAgent)\n",
        "print(\"PHLA\")\n",
        "analysis_statistics(PHLA)\n",
        "print(\"AgentSAS\")\n",
        "analysis_statistics(AgentSAS)\n",
        "print(\"NegoAgent\")\n",
        "analysis_statistics(NegoAgent)\n",
        "print(\"Shochan\")\n",
        "analysis_statistics(Shochan)"
      ],
      "metadata": {
        "colab": {
          "base_uri": "https://localhost:8080/"
        },
        "id": "_SWsSrWt2GxC",
        "outputId": "2e97b068-c82c-44f8-d92f-e4e646933496"
      },
      "execution_count": null,
      "outputs": [
        {
          "output_type": "stream",
          "name": "stdout",
          "text": [
            "TestAgent0730\n",
            "Mean: 1.08621\n",
            "Min: 1.03407\n",
            "First quartile: 1.06929\n",
            "Median (Second quartile): 1.08625\n",
            "Third quartile: 1.1034275\n",
            "Max: 1.16485\n",
            " \n",
            "AgentVSCforOneShot\n",
            "Mean: 1.1186840000000002\n",
            "Min: 1.07162\n",
            "First quartile: 1.0990375000000001\n",
            "Median (Second quartile): 1.1192\n",
            "Third quartile: 1.1337575\n",
            "Max: 1.17118\n",
            " \n",
            "ForestAgent\n",
            "Mean: 1.0624631\n",
            "Min: 0.902253\n",
            "First quartile: 1.03161\n",
            "Median (Second quartile): 1.0791149999999998\n",
            "Third quartile: 1.10869\n",
            "Max: 1.15452\n",
            " \n",
            "PHLA\n",
            "Mean: 1.0369597000000002\n",
            "Min: 0.877981\n",
            "First quartile: 1.015885\n",
            "Median (Second quartile): 1.0493000000000001\n",
            "Third quartile: 1.08818\n",
            "Max: 1.12755\n",
            " \n",
            "AgentSAS\n",
            "Mean: 1.0362757\n",
            "Min: 0.878614\n",
            "First quartile: 1.01909\n",
            "Median (Second quartile): 1.0506950000000002\n",
            "Third quartile: 1.0848525\n",
            "Max: 1.12408\n",
            " \n",
            "NegoAgent\n",
            "Mean: 1.0283631\n",
            "Min: 0.962362\n",
            "First quartile: 1.01349\n",
            "Median (Second quartile): 1.03822\n",
            "Third quartile: 1.050565\n",
            "Max: 1.0696\n",
            " \n",
            "Shochan\n",
            "Mean: 1.0776454999999998\n",
            "Min: 0.965705\n",
            "First quartile: 1.04586\n",
            "Median (Second quartile): 1.0893950000000001\n",
            "Third quartile: 1.11664\n",
            "Max: 1.14989\n",
            " \n"
          ]
        }
      ]
    },
    {
      "cell_type": "markdown",
      "source": [
        "##analysis for final needs"
      ],
      "metadata": {
        "id": "bXHFGTOk6XwT"
      }
    },
    {
      "cell_type": "markdown",
      "source": [
        "###function"
      ],
      "metadata": {
        "id": "wxxIFoVB6j2B"
      }
    },
    {
      "cell_type": "code",
      "source": [
        "def load_data_from_csv(filename):\n",
        "    data = []\n",
        "    with open(filename, 'r') as f:\n",
        "        reader = csv.reader(f)\n",
        "        for row in reader:\n",
        "            # 各要素をint型に変換し、空文字列の場合は無視する\n",
        "            row_data = [int(x) for x in row if x]\n",
        "            if row_data:  # row_dataが空でなければ\n",
        "                data.extend(row_data)\n",
        "    return data\n",
        "\n",
        "def np_counter(np_data):\n",
        "    # Counterオブジェクトを作成します\n",
        "    counter = Counter(np_data)\n",
        "\n",
        "    # 各要素とその出現回数を出力します\n",
        "    for element, count in counter.items():\n",
        "        print(f\"Element: {element}, Count: {count}\")"
      ],
      "metadata": {
        "id": "Xu9BgntP6db6"
      },
      "execution_count": null,
      "outputs": []
    },
    {
      "cell_type": "markdown",
      "source": [
        "###import"
      ],
      "metadata": {
        "id": "6-UtckCr6lWo"
      }
    },
    {
      "cell_type": "code",
      "source": [
        "list_final_needs_set_TestAgent0730 = load_data_from_csv('final_needs_set_TestAgent0730.csv')\n",
        "print(\"final needs of TestAgent0730\")\n",
        "long = len(list_final_needs_set_TestAgent0730)\n",
        "each_long = long // 2\n",
        "level0_final_needs_set_TestAgent0730 = []\n",
        "level1_final_needs_set_TestAgent0730 = []\n",
        "for i in range(each_long):\n",
        "    if list_final_needs_set_TestAgent0730[2*i+1] == 0:\n",
        "        level0_final_needs_set_TestAgent0730.append(list_final_needs_set_TestAgent0730[2*i])\n",
        "    else:\n",
        "        level1_final_needs_set_TestAgent0730.append(list_final_needs_set_TestAgent0730[2*i])\n",
        "\n",
        "np_level0_final_needs_set_TestAgent0730 = np.array(level0_final_needs_set_TestAgent0730)\n",
        "np_level1_final_needs_set_TestAgent0730 = np.array(level1_final_needs_set_TestAgent0730)\n",
        "\n",
        "print(\"level0\")\n",
        "plt.hist(np_level0_final_needs_set_TestAgent0730, bins=30)\n",
        "plt.show()\n",
        "if False:\n",
        "    abs_data = np.abs(np_level0_final_needs_set_TestAgent0730)\n",
        "    mean_abs_data = np.mean(abs_data)\n",
        "    print(\"mean of absolute of final_needs =\", mean_abs_data)\n",
        "data = np_level0_final_needs_set_TestAgent0730\n",
        "print(\">0 mean =\", np.sum(data[data > 0]) / data.size)\n",
        "print(\"<0 mean =\", np.sum(data[data < 0]) / data.size)\n",
        "print(\" \")\n",
        "\n",
        "print(\"level1\")\n",
        "plt.hist(np_level1_final_needs_set_TestAgent0730, bins=30)\n",
        "plt.show()\n",
        "if False:\n",
        "    abs_data = np.abs(np_level1_final_needs_set_TestAgent0730)\n",
        "    mean_abs_data = np.mean(abs_data)\n",
        "    print(\"mean of absolute of final_needs =\", mean_abs_data)\n",
        "data = np_level1_final_needs_set_TestAgent0730\n",
        "print(\">0 mean =\", np.sum(data[data > 0]) / data.size)\n",
        "print(\"<0 mean =\", np.sum(data[data < 0]) / data.size)\n",
        "print(\" \")\n",
        "\n",
        "print(\" \")\n",
        "print(\" \")\n",
        "\n",
        "\n",
        "\n",
        "list_final_needs_set_AgentVSCforOneShot = load_data_from_csv('final_needs_set_AgentVSCforOneShot.csv')\n",
        "print(\"final needs of AgentVSCforOneShot\")\n",
        "long = len(list_final_needs_set_AgentVSCforOneShot)\n",
        "each_long = long // 2\n",
        "level0_final_needs_set_AgentVSCforOneShot = []\n",
        "level1_final_needs_set_AgentVSCforOneShot = []\n",
        "for i in range(each_long):\n",
        "    if list_final_needs_set_AgentVSCforOneShot[2*i+1] == 0:\n",
        "        level0_final_needs_set_AgentVSCforOneShot.append(list_final_needs_set_AgentVSCforOneShot[2*i])\n",
        "    else:\n",
        "        level1_final_needs_set_AgentVSCforOneShot.append(list_final_needs_set_AgentVSCforOneShot[2*i])\n",
        "\n",
        "np_level0_final_needs_set_AgentVSCforOneShot = np.array(level0_final_needs_set_AgentVSCforOneShot)\n",
        "np_level1_final_needs_set_AgentVSCforOneShot = np.array(level1_final_needs_set_AgentVSCforOneShot)\n",
        "\n",
        "print(\"level0\")\n",
        "plt.hist(np_level0_final_needs_set_AgentVSCforOneShot, bins=30)\n",
        "plt.show()\n",
        "if False:\n",
        "    abs_data = np.abs(np_level0_final_needs_set_AgentVSCforOneShot)\n",
        "    mean_abs_data = np.mean(abs_data)\n",
        "    print(\"mean of absolute of final_needs =\", mean_abs_data)\n",
        "data = np_level0_final_needs_set_AgentVSCforOneShot\n",
        "print(\">0 mean =\", np.sum(data[data > 0]) / data.size)\n",
        "print(\"<0 mean =\", np.sum(data[data < 0]) / data.size)\n",
        "print(\" \")\n",
        "\n",
        "print(\"level1\")\n",
        "plt.hist(np_level1_final_needs_set_AgentVSCforOneShot, bins=30)\n",
        "plt.show()\n",
        "if False:\n",
        "    abs_data = np.abs(np_level1_final_needs_set_AgentVSCforOneShot)\n",
        "    mean_abs_data = np.mean(abs_data)\n",
        "    print(\"mean of absolute of final_needs =\", mean_abs_data)\n",
        "data = np_level1_final_needs_set_AgentVSCforOneShot\n",
        "print(\">0 mean =\", np.sum(data[data > 0]) / data.size)\n",
        "print(\"<0 mean =\", np.sum(data[data < 0]) / data.size)\n",
        "print(\" \")"
      ],
      "metadata": {
        "colab": {
          "base_uri": "https://localhost:8080/",
          "height": 1000
        },
        "id": "MncY8LYl6a2j",
        "outputId": "7a1d673d-4a27-47f8-b6a7-79d471ffbca7"
      },
      "execution_count": null,
      "outputs": [
        {
          "output_type": "stream",
          "name": "stdout",
          "text": [
            "final needs of TestAgent0730\n",
            "level0\n"
          ]
        },
        {
          "output_type": "display_data",
          "data": {
            "text/plain": [
              "<Figure size 640x480 with 1 Axes>"
            ],
            "image/png": "[encoded data removed]"
          },
          "metadata": {}
        },
        {
          "output_type": "stream",
          "name": "stdout",
          "text": [
            ">0 mean = 0.43623639191290825\n",
            "<0 mean = -0.0027216174183514776\n",
            " \n",
            "level1\n"
          ]
        },
        {
          "output_type": "display_data",
          "data": {
            "text/plain": [
              "<Figure size 640x480 with 1 Axes>"
            ],
            "image/png": "[encoded data removed]"
          },
          "metadata": {}
        },
        {
          "output_type": "stream",
          "name": "stdout",
          "text": [
            ">0 mean = 0.8656957928802589\n",
            "<0 mean = -0.0008090614886731392\n",
            " \n",
            " \n",
            " \n",
            "final needs of AgentVSCforOneShot\n",
            "level0\n"
          ]
        },
        {
          "output_type": "display_data",
          "data": {
            "text/plain": [
              "<Figure size 640x480 with 1 Axes>"
            ],
            "image/png": "[encoded data removed]"
          },
          "metadata": {}
        },
        {
          "output_type": "stream",
          "name": "stdout",
          "text": [
            ">0 mean = 0.21592442645074225\n",
            "<0 mean = -0.01349527665317139\n",
            " \n",
            "level1\n"
          ]
        },
        {
          "output_type": "display_data",
          "data": {
            "text/plain": [
              "<Figure size 640x480 with 1 Axes>"
            ],
            "image/png": "[encoded data removed]"
          },
          "metadata": {}
        },
        {
          "output_type": "stream",
          "name": "stdout",
          "text": [
            ">0 mean = 0.3592085235920852\n",
            "<0 mean = -0.0837138508371385\n",
            " \n"
          ]
        }
      ]
    },
    {
      "cell_type": "code",
      "source": [
        "print(\"TestAgent0730 in level 0\")\n",
        "np_counter(np_level0_final_needs_set_TestAgent0730)\n",
        "print(\" \")\n",
        "\n",
        "print(\"TestAgent0730 in level 1\")\n",
        "np_counter(np_level1_final_needs_set_TestAgent0730)\n",
        "print(\" \")\n",
        "\n",
        "print(\"AgentVSCforOneShot in level 0\")\n",
        "np_counter(np_level0_final_needs_set_AgentVSCforOneShot)\n",
        "print(\" \")\n",
        "\n",
        "print(\"AgentVSCforOneShot in level 1\")\n",
        "np_counter(np_level1_final_needs_set_AgentVSCforOneShot)\n",
        "print(\" \")"
      ],
      "metadata": {
        "colab": {
          "base_uri": "https://localhost:8080/"
        },
        "id": "tKo1Bb1uAQec",
        "outputId": "4de1f03e-8132-4eb6-f29f-72fee1b88c01"
      },
      "execution_count": null,
      "outputs": [
        {
          "output_type": "stream",
          "name": "stdout",
          "text": [
            "TestAgent0730 in level 0\n",
            "Element: 2, Count: 36\n",
            "Element: 0, Count: 1691\n",
            "Element: 7, Count: 4\n",
            "Element: 1, Count: 774\n",
            "Element: -1, Count: 7\n",
            "Element: 4, Count: 13\n",
            "Element: 3, Count: 31\n",
            "Element: 9, Count: 1\n",
            "Element: 6, Count: 4\n",
            "Element: 5, Count: 6\n",
            "Element: 8, Count: 5\n",
            " \n",
            "TestAgent0730 in level 1\n",
            "Element: 0, Count: 705\n",
            "Element: 2, Count: 67\n",
            "Element: 4, Count: 33\n",
            "Element: 6, Count: 13\n",
            "Element: 9, Count: 1\n",
            "Element: 3, Count: 56\n",
            "Element: 1, Count: 317\n",
            "Element: 5, Count: 35\n",
            "Element: 7, Count: 7\n",
            "Element: 8, Count: 1\n",
            "Element: -1, Count: 1\n",
            " \n",
            "AgentVSCforOneShot in level 0\n",
            "Element: -2, Count: 2\n",
            "Element: 0, Count: 594\n",
            "Element: 1, Count: 125\n",
            "Element: 2, Count: 10\n",
            "Element: -1, Count: 6\n",
            "Element: 4, Count: 3\n",
            "Element: 3, Count: 1\n",
            " \n",
            "AgentVSCforOneShot in level 1\n",
            "Element: 0, Count: 480\n",
            "Element: 1, Count: 80\n",
            "Element: 5, Count: 3\n",
            "Element: 2, Count: 22\n",
            "Element: 3, Count: 15\n",
            "Element: 4, Count: 8\n",
            "Element: -1, Count: 37\n",
            "Element: 8, Count: 1\n",
            "Element: -2, Count: 9\n",
            "Element: 6, Count: 2\n",
            " \n"
          ]
        }
      ]
    }
  ]
}